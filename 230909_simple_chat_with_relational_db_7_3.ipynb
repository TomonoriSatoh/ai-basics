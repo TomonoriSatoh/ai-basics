{
  "nbformat": 4,
  "nbformat_minor": 0,
  "metadata": {
    "colab": {
      "provenance": [],
      "authorship_tag": "ABX9TyO8L6BE2ekRa1IA9xsf1kWg",
      "include_colab_link": true
    },
    "kernelspec": {
      "name": "python3",
      "display_name": "Python 3"
    },
    "language_info": {
      "name": "python"
    }
  },
  "cells": [
    {
      "cell_type": "markdown",
      "metadata": {
        "id": "view-in-github",
        "colab_type": "text"
      },
      "source": [
        "<a href=\"https://colab.research.google.com/github/TomonoriSatoh/ai-basics/blob/proposal/230909_simple_chat_with_relational_db_7_3.ipynb\" target=\"_parent\"><img src=\"https://colab.research.google.com/assets/colab-badge.svg\" alt=\"Open In Colab\"/></a>"
      ]
    },
    {
      "cell_type": "code",
      "execution_count": 56,
      "metadata": {
        "id": "FhFaq8rfRR9i"
      },
      "outputs": [],
      "source": [
        "import sqlite3\n",
        "\n",
        "conn = sqlite3.connect('user_support.db')\n",
        "cursor = conn.cursor()\n",
        "\n",
        "cursor.execute('DROP TABLE IF EXISTS users')\n",
        "cursor.execute('DROP TABLE IF EXISTS products')\n",
        "cursor.execute('DROP TABLE IF EXISTS order_history')\n",
        "cursor.execute('DROP TABLE IF EXISTS support_history')\n",
        "\n",
        "cursor.execute('''\n",
        "CREATE TABLE users(\n",
        "  user_id INTEGER PRIMARY KEY,\n",
        "  first_name TEXT,\n",
        "  last_name TEXT,\n",
        "  email TEXT,\n",
        "  phone TEXT\n",
        ")\n",
        "''')\n",
        "\n",
        "cursor.execute('''\n",
        "CREATE TABLE products(\n",
        "  product_id INTEGER PRIMARY KEY,\n",
        "  product_name TEXT,\n",
        "  price INTEGER\n",
        ")\n",
        "''')\n",
        "\n",
        "cursor.execute('''\n",
        "CREATE TABLE order_history(\n",
        "  history_id INTEGER PRIMARY KEY,\n",
        "  user_id INTEGER,\n",
        "  product_id INTEGER,\n",
        "  purchase_date DATE,\n",
        "  quantity INTEGER,\n",
        "  remarks TEXT,\n",
        "  created_at DATETIME,\n",
        "  FOREIGN KEY(user_id) REFERENCES users(user_id),\n",
        "  FOREIGN KEY(product_id) REFERENCES products(product_id)\n",
        ")\n",
        "''')\n",
        "\n",
        "cursor.execute('''\n",
        "CREATE TABLE support_history(\n",
        "  history_id INTEGER PRIMARY KEY,\n",
        "  user_id INTEGER,\n",
        "  subject TEXT,\n",
        "  message_content TEXT,\n",
        "  message_type TEXT,\n",
        "  status TEXT,\n",
        "  created_at DATETIME,\n",
        "  FOREIGN KEY(user_id) REFERENCES user(user_id)\n",
        ")\n",
        "''')\n",
        "\n",
        "conn.commit()\n",
        "conn.close()"
      ]
    },
    {
      "cell_type": "code",
      "source": [
        "import sqlite3\n",
        "from datetime import datetime\n",
        "\n",
        "conn = sqlite3.connect('user_support.db')\n",
        "cursor = conn.cursor()\n",
        "\n",
        "users_data = [\n",
        "    (1, '太郎', '山田', 'taro@example.com', '090-1234-5678'),\n",
        "    (2, '花子', '佐藤', 'hanako@example.com', '080-9876-5432')\n",
        "]\n",
        "\n",
        "for user in users_data:\n",
        "  cursor.execute('''\n",
        "  INSERT INTO users (user_id, first_name, last_name, email, phone)\n",
        "  VALUES (?, ?, ?, ?, ?)\n",
        "  ''', user)\n",
        "\n",
        "products_data = [\n",
        "    (1, '商品A', 1000),\n",
        "    (2, '商品B', 2000),\n",
        "    (3, '商品C', 3000)\n",
        "]\n",
        "\n",
        "for product in products_data:\n",
        "  cursor.execute('''\n",
        "  INSERT INTO products (product_id, product_name, price)\n",
        "  VALUES (?, ?, ?)\n",
        "  ''', product)\n",
        "\n",
        "order_history_data = [\n",
        "    (1,1,1,'2023-04-01', 2, '迅速な発送', datetime.now()),\n",
        "    (2,2,2,'2023-04-05', 1, 'ギフトラッピング', datetime.now()),\n",
        "]\n",
        "\n",
        "for order in order_history_data:\n",
        "  cursor.execute('''\n",
        "  INSERT INTO order_history(history_id, user_id, product_id, purchase_date, quantity, remarks, created_at)\n",
        "  VALUES (?, ?, ?, ?, ?, ?, ?)\n",
        "  ''', order)\n",
        "\n",
        "support_history_data = [\n",
        "    (1, 1, '請求に関する問題', None, None, 'open', datetime.now()),\n",
        "    (2, 1, None, '請求に問題があります。', 'user', None, datetime.now()),\n",
        "    (3, 1, None, 'お問合せいただきありがとうございます。問題を調査しています。', 'support', None, datetime.now())\n",
        "]\n",
        "\n",
        "for support in support_history_data:\n",
        "  cursor.execute('''\n",
        "  INSERT INTO support_history (history_id, user_id, subject, message_content, message_type, status, created_at)\n",
        "  VALUES (?, ?, ?, ?, ?, ?, ?)\n",
        "  ''', support)\n",
        "\n",
        "conn.commit()\n",
        "conn.close()"
      ],
      "metadata": {
        "id": "ncv6c2mMUFd0"
      },
      "execution_count": 57,
      "outputs": []
    },
    {
      "cell_type": "code",
      "source": [
        "import sqlite3\n",
        "\n",
        "conn = sqlite3.connect('user_support.db')\n",
        "cursor = conn.cursor()\n",
        "\n",
        "tables = ['users', 'products', 'order_history', 'support_history']\n",
        "\n",
        "for table in tables:\n",
        "  print(f\"{table} テーブルのデータ\")\n",
        "  cursor.execute(f\"SELECT * FROM {table}\")\n",
        "  rows = cursor.fetchall()\n",
        "\n",
        "  for row in rows:\n",
        "    print(row)\n",
        "\n",
        "  print()\n",
        "\n",
        "conn.close()"
      ],
      "metadata": {
        "colab": {
          "base_uri": "https://localhost:8080/"
        },
        "id": "0lUlHcnXX02r",
        "outputId": "d265d7af-ea30-48ab-e2b4-9be2978ba003"
      },
      "execution_count": 58,
      "outputs": [
        {
          "output_type": "stream",
          "name": "stdout",
          "text": [
            "users テーブルのデータ\n",
            "(1, '太郎', '山田', 'taro@example.com', '090-1234-5678')\n",
            "(2, '花子', '佐藤', 'hanako@example.com', '080-9876-5432')\n",
            "\n",
            "products テーブルのデータ\n",
            "(1, '商品A', 1000)\n",
            "(2, '商品B', 2000)\n",
            "(3, '商品C', 3000)\n",
            "\n",
            "order_history テーブルのデータ\n",
            "(1, 1, 1, '2023-04-01', 2, '迅速な発送', '2023-09-10 11:01:51.484306')\n",
            "(2, 2, 2, '2023-04-05', 1, 'ギフトラッピング', '2023-09-10 11:01:51.484310')\n",
            "\n",
            "support_history テーブルのデータ\n",
            "(1, 1, '請求に関する問題', None, None, 'open', '2023-09-10 11:01:51.484657')\n",
            "(2, 1, None, '請求に問題があります。', 'user', None, '2023-09-10 11:01:51.484660')\n",
            "(3, 1, None, 'お問合せいただきありがとうございます。問題を調査しています。', 'support', None, '2023-09-10 11:01:51.484661')\n",
            "\n"
          ]
        }
      ]
    },
    {
      "cell_type": "code",
      "source": [],
      "metadata": {
        "id": "2qT7q94yuzjM"
      },
      "execution_count": null,
      "outputs": []
    }
  ]
}