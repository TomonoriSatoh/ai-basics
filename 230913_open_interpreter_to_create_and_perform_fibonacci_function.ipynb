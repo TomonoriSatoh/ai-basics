{
  "nbformat": 4,
  "nbformat_minor": 0,
  "metadata": {
    "colab": {
      "provenance": [],
      "authorship_tag": "ABX9TyPlzQeFc9XxgK2rOJa/MSOy"
    },
    "kernelspec": {
      "name": "python3",
      "display_name": "Python 3"
    },
    "language_info": {
      "name": "python"
    },
    "widgets": {
      "application/vnd.jupyter.widget-state+json": {
        "774438c38b17416fa73b7b0457f54197": {
          "model_module": "@jupyter-widgets/output",
          "model_name": "OutputModel",
          "model_module_version": "1.0.0",
          "state": {
            "_dom_classes": [],
            "_model_module": "@jupyter-widgets/output",
            "_model_module_version": "1.0.0",
            "_model_name": "OutputModel",
            "_view_count": null,
            "_view_module": "@jupyter-widgets/output",
            "_view_module_version": "1.0.0",
            "_view_name": "OutputView",
            "layout": "IPY_MODEL_df0141e390ab47ccb2baaddfdfcc78bc",
            "msg_id": "",
            "outputs": [
              {
                "output_type": "display_data",
                "data": {
                  "text/plain": "                                                                                                                   \n  Hello! How can I assist you today?                                                                               \n                                                                                                                   \n",
                  "text/html": "<pre style=\"white-space:pre;overflow-x:auto;line-height:normal;font-family:Menlo,'DejaVu Sans Mono',consolas,'Courier New',monospace\">                                                                                                                   \n  Hello! How can I assist you today?                                                                               \n                                                                                                                   \n</pre>\n"
                },
                "metadata": {}
              }
            ]
          }
        },
        "df0141e390ab47ccb2baaddfdfcc78bc": {
          "model_module": "@jupyter-widgets/base",
          "model_name": "LayoutModel",
          "model_module_version": "1.2.0",
          "state": {
            "_model_module": "@jupyter-widgets/base",
            "_model_module_version": "1.2.0",
            "_model_name": "LayoutModel",
            "_view_count": null,
            "_view_module": "@jupyter-widgets/base",
            "_view_module_version": "1.2.0",
            "_view_name": "LayoutView",
            "align_content": null,
            "align_items": null,
            "align_self": null,
            "border": null,
            "bottom": null,
            "display": null,
            "flex": null,
            "flex_flow": null,
            "grid_area": null,
            "grid_auto_columns": null,
            "grid_auto_flow": null,
            "grid_auto_rows": null,
            "grid_column": null,
            "grid_gap": null,
            "grid_row": null,
            "grid_template_areas": null,
            "grid_template_columns": null,
            "grid_template_rows": null,
            "height": null,
            "justify_content": null,
            "justify_items": null,
            "left": null,
            "margin": null,
            "max_height": null,
            "max_width": null,
            "min_height": null,
            "min_width": null,
            "object_fit": null,
            "object_position": null,
            "order": null,
            "overflow": null,
            "overflow_x": null,
            "overflow_y": null,
            "padding": null,
            "right": null,
            "top": null,
            "visibility": null,
            "width": null
          }
        },
        "e4757a3e38e745cb8f86631e4097f2bd": {
          "model_module": "@jupyter-widgets/output",
          "model_name": "OutputModel",
          "model_module_version": "1.0.0",
          "state": {
            "_dom_classes": [],
            "_model_module": "@jupyter-widgets/output",
            "_model_module_version": "1.0.0",
            "_model_name": "OutputModel",
            "_view_count": null,
            "_view_module": "@jupyter-widgets/output",
            "_view_module_version": "1.0.0",
            "_view_name": "OutputView",
            "layout": "IPY_MODEL_35f35eee90124d38a8eaab41c76aa47c",
            "msg_id": "",
            "outputs": [
              {
                "output_type": "display_data",
                "data": {
                  "text/plain": "                                                                                                                   \n  了解しました。Goでフィボナッチ数列を20項生成する関数を作成し、実行します。                                       \n                                                                                                                   \n  まず、Goがインストールされているか確認します。その後、フィボナッチ数列を生成する関数を作成し、その関数を実行し   \n  ます。                                                                                                           \n                                                                                                                   \n  以下の手順で進めます：                                                                                           \n                                                                                                                   \n  \u001b[1;33m 1 \u001b[0mGoのインストール状況を確認します。                                                                            \n  \u001b[1;33m 2 \u001b[0mGoでフィボナッチ数列を生成する関数を作成します。                                                              \n  \u001b[1;33m 3 \u001b[0m作成した関数を実行します。                                                                                    \n                                                                                                                   \n  まずは、Goがインストールされているか確認します。                                                                 \n                                                                                                                   \n",
                  "text/html": "<pre style=\"white-space:pre;overflow-x:auto;line-height:normal;font-family:Menlo,'DejaVu Sans Mono',consolas,'Courier New',monospace\">                                                                                                                   \n  了解しました。Goでフィボナッチ数列を20項生成する関数を作成し、実行します。                                       \n                                                                                                                   \n  まず、Goがインストールされているか確認します。その後、フィボナッチ数列を生成する関数を作成し、その関数を実行し   \n  ます。                                                                                                           \n                                                                                                                   \n  以下の手順で進めます：                                                                                           \n                                                                                                                   \n  <span style=\"color: #808000; text-decoration-color: #808000; font-weight: bold\"> 1 </span>Goのインストール状況を確認します。                                                                            \n  <span style=\"color: #808000; text-decoration-color: #808000; font-weight: bold\"> 2 </span>Goでフィボナッチ数列を生成する関数を作成します。                                                              \n  <span style=\"color: #808000; text-decoration-color: #808000; font-weight: bold\"> 3 </span>作成した関数を実行します。                                                                                    \n                                                                                                                   \n  まずは、Goがインストールされているか確認します。                                                                 \n                                                                                                                   \n</pre>\n"
                },
                "metadata": {}
              }
            ]
          }
        },
        "35f35eee90124d38a8eaab41c76aa47c": {
          "model_module": "@jupyter-widgets/base",
          "model_name": "LayoutModel",
          "model_module_version": "1.2.0",
          "state": {
            "_model_module": "@jupyter-widgets/base",
            "_model_module_version": "1.2.0",
            "_model_name": "LayoutModel",
            "_view_count": null,
            "_view_module": "@jupyter-widgets/base",
            "_view_module_version": "1.2.0",
            "_view_name": "LayoutView",
            "align_content": null,
            "align_items": null,
            "align_self": null,
            "border": null,
            "bottom": null,
            "display": null,
            "flex": null,
            "flex_flow": null,
            "grid_area": null,
            "grid_auto_columns": null,
            "grid_auto_flow": null,
            "grid_auto_rows": null,
            "grid_column": null,
            "grid_gap": null,
            "grid_row": null,
            "grid_template_areas": null,
            "grid_template_columns": null,
            "grid_template_rows": null,
            "height": null,
            "justify_content": null,
            "justify_items": null,
            "left": null,
            "margin": null,
            "max_height": null,
            "max_width": null,
            "min_height": null,
            "min_width": null,
            "object_fit": null,
            "object_position": null,
            "order": null,
            "overflow": null,
            "overflow_x": null,
            "overflow_y": null,
            "padding": null,
            "right": null,
            "top": null,
            "visibility": null,
            "width": null
          }
        },
        "25aea266493c4a69bca07bae734b8552": {
          "model_module": "@jupyter-widgets/output",
          "model_name": "OutputModel",
          "model_module_version": "1.0.0",
          "state": {
            "_dom_classes": [],
            "_model_module": "@jupyter-widgets/output",
            "_model_module_version": "1.0.0",
            "_model_name": "OutputModel",
            "_view_count": null,
            "_view_module": "@jupyter-widgets/output",
            "_view_module_version": "1.0.0",
            "_view_name": "OutputView",
            "layout": "IPY_MODEL_b0f7a0bdecb94915a8e061439f0aed47",
            "msg_id": "",
            "outputs": [
              {
                "output_type": "display_data",
                "data": {
                  "text/plain": "\u001b[48;2;39;39;34m                                                                                                                   \u001b[0m\n\u001b[48;2;39;39;34m \u001b[0m\u001b[48;2;39;39;34m \u001b[0m\u001b[38;2;248;248;242;48;2;39;40;34mgo\u001b[0m\u001b[38;2;248;248;242;48;2;39;40;34m \u001b[0m\u001b[38;2;248;248;242;48;2;39;40;34mversion\u001b[0m\u001b[48;2;39;40;34m                                                                                                     \u001b[0m\u001b[48;2;39;39;34m \u001b[0m\u001b[48;2;39;39;34m \u001b[0m\n\u001b[48;2;39;39;34m                                                                                                                   \u001b[0m\n\n",
                  "text/html": "<pre style=\"white-space:pre;overflow-x:auto;line-height:normal;font-family:Menlo,'DejaVu Sans Mono',consolas,'Courier New',monospace\"><span style=\"background-color: #272722\">                                                                                                                   </span>\n<span style=\"background-color: #272722\">  </span><span style=\"color: #f8f8f2; text-decoration-color: #f8f8f2; background-color: #272822\">go version</span><span style=\"background-color: #272822\">                                                                                                     </span><span style=\"background-color: #272722\">  </span>\n<span style=\"background-color: #272722\">                                                                                                                   </span>\n\n</pre>\n"
                },
                "metadata": {}
              }
            ]
          }
        },
        "b0f7a0bdecb94915a8e061439f0aed47": {
          "model_module": "@jupyter-widgets/base",
          "model_name": "LayoutModel",
          "model_module_version": "1.2.0",
          "state": {
            "_model_module": "@jupyter-widgets/base",
            "_model_module_version": "1.2.0",
            "_model_name": "LayoutModel",
            "_view_count": null,
            "_view_module": "@jupyter-widgets/base",
            "_view_module_version": "1.2.0",
            "_view_name": "LayoutView",
            "align_content": null,
            "align_items": null,
            "align_self": null,
            "border": null,
            "bottom": null,
            "display": null,
            "flex": null,
            "flex_flow": null,
            "grid_area": null,
            "grid_auto_columns": null,
            "grid_auto_flow": null,
            "grid_auto_rows": null,
            "grid_column": null,
            "grid_gap": null,
            "grid_row": null,
            "grid_template_areas": null,
            "grid_template_columns": null,
            "grid_template_rows": null,
            "height": null,
            "justify_content": null,
            "justify_items": null,
            "left": null,
            "margin": null,
            "max_height": null,
            "max_width": null,
            "min_height": null,
            "min_width": null,
            "object_fit": null,
            "object_position": null,
            "order": null,
            "overflow": null,
            "overflow_x": null,
            "overflow_y": null,
            "padding": null,
            "right": null,
            "top": null,
            "visibility": null,
            "width": null
          }
        },
        "285f54b3fafa4ee198cff53642ed6372": {
          "model_module": "@jupyter-widgets/output",
          "model_name": "OutputModel",
          "model_module_version": "1.0.0",
          "state": {
            "_dom_classes": [],
            "_model_module": "@jupyter-widgets/output",
            "_model_module_version": "1.0.0",
            "_model_name": "OutputModel",
            "_view_count": null,
            "_view_module": "@jupyter-widgets/output",
            "_view_module_version": "1.0.0",
            "_view_name": "OutputView",
            "layout": "IPY_MODEL_dfdeec3cfb0345b6a0eb7ef6f2be975c",
            "msg_id": "",
            "outputs": [
              {
                "output_type": "display_data",
                "data": {
                  "text/plain": "\u001b[48;2;39;39;34m                                                                                                                   \u001b[0m\n\u001b[48;2;39;39;34m \u001b[0m\u001b[48;2;39;39;34m \u001b[0m\u001b[38;2;248;248;242;48;2;39;40;34mgo\u001b[0m\u001b[38;2;248;248;242;48;2;39;40;34m \u001b[0m\u001b[38;2;248;248;242;48;2;39;40;34mversion\u001b[0m\u001b[48;2;39;40;34m                                                                                                     \u001b[0m\u001b[48;2;39;39;34m \u001b[0m\u001b[48;2;39;39;34m \u001b[0m\n\u001b[48;2;39;39;34m                                                                                                                   \u001b[0m\n\u001b[38;2;255;255;255;48;2;59;59;55m                                                                                                                   \u001b[0m\n\u001b[38;2;255;255;255;48;2;59;59;55m \u001b[0m\u001b[38;2;255;255;255;48;2;59;59;55m \u001b[0m\u001b[38;2;255;255;255;48;2;59;59;55m/bin/bash: line 9: go: command not found\u001b[0m\u001b[38;2;255;255;255;48;2;59;59;55m                                                                       \u001b[0m\u001b[38;2;255;255;255;48;2;59;59;55m \u001b[0m\u001b[38;2;255;255;255;48;2;59;59;55m \u001b[0m\n\u001b[38;2;255;255;255;48;2;59;59;55m                                                                                                                   \u001b[0m\n",
                  "text/html": "<pre style=\"white-space:pre;overflow-x:auto;line-height:normal;font-family:Menlo,'DejaVu Sans Mono',consolas,'Courier New',monospace\"><span style=\"background-color: #272722\">                                                                                                                   </span>\n<span style=\"background-color: #272722\">  </span><span style=\"color: #f8f8f2; text-decoration-color: #f8f8f2; background-color: #272822\">go version</span><span style=\"background-color: #272822\">                                                                                                     </span><span style=\"background-color: #272722\">  </span>\n<span style=\"background-color: #272722\">                                                                                                                   </span>\n<span style=\"color: #ffffff; text-decoration-color: #ffffff; background-color: #3b3b37\">                                                                                                                   </span>\n<span style=\"color: #ffffff; text-decoration-color: #ffffff; background-color: #3b3b37\">  /bin/bash: line 9: go: command not found                                                                         </span>\n<span style=\"color: #ffffff; text-decoration-color: #ffffff; background-color: #3b3b37\">                                                                                                                   </span>\n</pre>\n"
                },
                "metadata": {}
              }
            ]
          }
        },
        "dfdeec3cfb0345b6a0eb7ef6f2be975c": {
          "model_module": "@jupyter-widgets/base",
          "model_name": "LayoutModel",
          "model_module_version": "1.2.0",
          "state": {
            "_model_module": "@jupyter-widgets/base",
            "_model_module_version": "1.2.0",
            "_model_name": "LayoutModel",
            "_view_count": null,
            "_view_module": "@jupyter-widgets/base",
            "_view_module_version": "1.2.0",
            "_view_name": "LayoutView",
            "align_content": null,
            "align_items": null,
            "align_self": null,
            "border": null,
            "bottom": null,
            "display": null,
            "flex": null,
            "flex_flow": null,
            "grid_area": null,
            "grid_auto_columns": null,
            "grid_auto_flow": null,
            "grid_auto_rows": null,
            "grid_column": null,
            "grid_gap": null,
            "grid_row": null,
            "grid_template_areas": null,
            "grid_template_columns": null,
            "grid_template_rows": null,
            "height": null,
            "justify_content": null,
            "justify_items": null,
            "left": null,
            "margin": null,
            "max_height": null,
            "max_width": null,
            "min_height": null,
            "min_width": null,
            "object_fit": null,
            "object_position": null,
            "order": null,
            "overflow": null,
            "overflow_x": null,
            "overflow_y": null,
            "padding": null,
            "right": null,
            "top": null,
            "visibility": null,
            "width": null
          }
        },
        "c427b0468df54444bf1ce8b88aa9f27c": {
          "model_module": "@jupyter-widgets/output",
          "model_name": "OutputModel",
          "model_module_version": "1.0.0",
          "state": {
            "_dom_classes": [],
            "_model_module": "@jupyter-widgets/output",
            "_model_module_version": "1.0.0",
            "_model_name": "OutputModel",
            "_view_count": null,
            "_view_module": "@jupyter-widgets/output",
            "_view_module_version": "1.0.0",
            "_view_name": "OutputView",
            "layout": "IPY_MODEL_1c33e3bff882496db054b70aced3ec32",
            "msg_id": "",
            "outputs": [
              {
                "output_type": "display_data",
                "data": {
                  "text/plain": "                                                                                                                   \n  Goがインストールされていないようです。Goをインストールする必要があります。インストールを進めてもよろしいでし     \n  ょうか？                                                                                                         \n                                                                                                                   \n",
                  "text/html": "<pre style=\"white-space:pre;overflow-x:auto;line-height:normal;font-family:Menlo,'DejaVu Sans Mono',consolas,'Courier New',monospace\">                                                                                                                   \n  Goがインストールされていないようです。Goをインストールする必要があります。インストールを進めてもよろしいでし     \n  ょうか？                                                                                                         \n                                                                                                                   \n</pre>\n"
                },
                "metadata": {}
              }
            ]
          }
        },
        "1c33e3bff882496db054b70aced3ec32": {
          "model_module": "@jupyter-widgets/base",
          "model_name": "LayoutModel",
          "model_module_version": "1.2.0",
          "state": {
            "_model_module": "@jupyter-widgets/base",
            "_model_module_version": "1.2.0",
            "_model_name": "LayoutModel",
            "_view_count": null,
            "_view_module": "@jupyter-widgets/base",
            "_view_module_version": "1.2.0",
            "_view_name": "LayoutView",
            "align_content": null,
            "align_items": null,
            "align_self": null,
            "border": null,
            "bottom": null,
            "display": null,
            "flex": null,
            "flex_flow": null,
            "grid_area": null,
            "grid_auto_columns": null,
            "grid_auto_flow": null,
            "grid_auto_rows": null,
            "grid_column": null,
            "grid_gap": null,
            "grid_row": null,
            "grid_template_areas": null,
            "grid_template_columns": null,
            "grid_template_rows": null,
            "height": null,
            "justify_content": null,
            "justify_items": null,
            "left": null,
            "margin": null,
            "max_height": null,
            "max_width": null,
            "min_height": null,
            "min_width": null,
            "object_fit": null,
            "object_position": null,
            "order": null,
            "overflow": null,
            "overflow_x": null,
            "overflow_y": null,
            "padding": null,
            "right": null,
            "top": null,
            "visibility": null,
            "width": null
          }
        },
        "53018144cd424e21b4da293d29dfcd93": {
          "model_module": "@jupyter-widgets/output",
          "model_name": "OutputModel",
          "model_module_version": "1.0.0",
          "state": {
            "_dom_classes": [],
            "_model_module": "@jupyter-widgets/output",
            "_model_module_version": "1.0.0",
            "_model_name": "OutputModel",
            "_view_count": null,
            "_view_module": "@jupyter-widgets/output",
            "_view_module_version": "1.0.0",
            "_view_name": "OutputView",
            "layout": "IPY_MODEL_f34f5ffac1e540f89cc9e6503ee08962",
            "msg_id": "",
            "outputs": [
              {
                "output_type": "display_data",
                "data": {
                  "text/plain": "\u001b[48;2;39;39;34m                                                                                                                   \u001b[0m\n\u001b[48;2;39;39;34m \u001b[0m\u001b[48;2;39;39;34m \u001b[0m\u001b[38;2;248;248;242;48;2;39;40;34msudo\u001b[0m\u001b[38;2;248;248;242;48;2;39;40;34m \u001b[0m\u001b[38;2;248;248;242;48;2;39;40;34mapt-get\u001b[0m\u001b[38;2;248;248;242;48;2;39;40;34m \u001b[0m\u001b[38;2;248;248;242;48;2;39;40;34mupdate\u001b[0m\u001b[38;2;248;248;242;48;2;39;40;34m \u001b[0m\u001b[38;2;255;70;137;48;2;39;40;34m&&\u001b[0m\u001b[38;2;248;248;242;48;2;39;40;34m \u001b[0m\u001b[38;2;248;248;242;48;2;39;40;34msudo\u001b[0m\u001b[38;2;248;248;242;48;2;39;40;34m \u001b[0m\u001b[38;2;248;248;242;48;2;39;40;34mapt-get\u001b[0m\u001b[38;2;248;248;242;48;2;39;40;34m \u001b[0m\u001b[38;2;248;248;242;48;2;39;40;34minstall\u001b[0m\u001b[38;2;248;248;242;48;2;39;40;34m \u001b[0m\u001b[38;2;248;248;242;48;2;39;40;34mgolang\u001b[0m\u001b[38;2;248;248;242;48;2;39;40;34m \u001b[0m\u001b[38;2;248;248;242;48;2;39;40;34m-y\u001b[0m\u001b[48;2;39;40;34m                                                          \u001b[0m\u001b[48;2;39;39;34m \u001b[0m\u001b[48;2;39;39;34m \u001b[0m\n\u001b[48;2;39;39;34m                                                                                                                   \u001b[0m\n\n",
                  "text/html": "<pre style=\"white-space:pre;overflow-x:auto;line-height:normal;font-family:Menlo,'DejaVu Sans Mono',consolas,'Courier New',monospace\"><span style=\"background-color: #272722\">                                                                                                                   </span>\n<span style=\"background-color: #272722\">  </span><span style=\"color: #f8f8f2; text-decoration-color: #f8f8f2; background-color: #272822\">sudo apt-get update </span><span style=\"color: #ff4689; text-decoration-color: #ff4689; background-color: #272822\">&amp;&amp;</span><span style=\"color: #f8f8f2; text-decoration-color: #f8f8f2; background-color: #272822\"> sudo apt-get install golang -y</span><span style=\"background-color: #272822\">                                                          </span><span style=\"background-color: #272722\">  </span>\n<span style=\"background-color: #272722\">                                                                                                                   </span>\n\n</pre>\n"
                },
                "metadata": {}
              }
            ]
          }
        },
        "f34f5ffac1e540f89cc9e6503ee08962": {
          "model_module": "@jupyter-widgets/base",
          "model_name": "LayoutModel",
          "model_module_version": "1.2.0",
          "state": {
            "_model_module": "@jupyter-widgets/base",
            "_model_module_version": "1.2.0",
            "_model_name": "LayoutModel",
            "_view_count": null,
            "_view_module": "@jupyter-widgets/base",
            "_view_module_version": "1.2.0",
            "_view_name": "LayoutView",
            "align_content": null,
            "align_items": null,
            "align_self": null,
            "border": null,
            "bottom": null,
            "display": null,
            "flex": null,
            "flex_flow": null,
            "grid_area": null,
            "grid_auto_columns": null,
            "grid_auto_flow": null,
            "grid_auto_rows": null,
            "grid_column": null,
            "grid_gap": null,
            "grid_row": null,
            "grid_template_areas": null,
            "grid_template_columns": null,
            "grid_template_rows": null,
            "height": null,
            "justify_content": null,
            "justify_items": null,
            "left": null,
            "margin": null,
            "max_height": null,
            "max_width": null,
            "min_height": null,
            "min_width": null,
            "object_fit": null,
            "object_position": null,
            "order": null,
            "overflow": null,
            "overflow_x": null,
            "overflow_y": null,
            "padding": null,
            "right": null,
            "top": null,
            "visibility": null,
            "width": null
          }
        },
        "ab2f412ce1674969955570924b98d739": {
          "model_module": "@jupyter-widgets/output",
          "model_name": "OutputModel",
          "model_module_version": "1.0.0",
          "state": {
            "_dom_classes": [],
            "_model_module": "@jupyter-widgets/output",
            "_model_module_version": "1.0.0",
            "_model_name": "OutputModel",
            "_view_count": null,
            "_view_module": "@jupyter-widgets/output",
            "_view_module_version": "1.0.0",
            "_view_name": "OutputView",
            "layout": "IPY_MODEL_fde4ada277ad477f8f8540fa6b8aa9bf",
            "msg_id": "",
            "outputs": [
              {
                "output_type": "display_data",
                "data": {
                  "text/plain": "\u001b[48;2;39;39;34m                                                                                                                   \u001b[0m\n\u001b[48;2;39;39;34m \u001b[0m\u001b[48;2;39;39;34m \u001b[0m\u001b[38;2;248;248;242;48;2;39;40;34msudo\u001b[0m\u001b[38;2;248;248;242;48;2;39;40;34m \u001b[0m\u001b[38;2;248;248;242;48;2;39;40;34mapt-get\u001b[0m\u001b[38;2;248;248;242;48;2;39;40;34m \u001b[0m\u001b[38;2;248;248;242;48;2;39;40;34mupdate\u001b[0m\u001b[38;2;248;248;242;48;2;39;40;34m \u001b[0m\u001b[38;2;255;70;137;48;2;39;40;34m&&\u001b[0m\u001b[38;2;248;248;242;48;2;39;40;34m \u001b[0m\u001b[38;2;248;248;242;48;2;39;40;34msudo\u001b[0m\u001b[38;2;248;248;242;48;2;39;40;34m \u001b[0m\u001b[38;2;248;248;242;48;2;39;40;34mapt-get\u001b[0m\u001b[38;2;248;248;242;48;2;39;40;34m \u001b[0m\u001b[38;2;248;248;242;48;2;39;40;34minstall\u001b[0m\u001b[38;2;248;248;242;48;2;39;40;34m \u001b[0m\u001b[38;2;248;248;242;48;2;39;40;34mgolang\u001b[0m\u001b[38;2;248;248;242;48;2;39;40;34m \u001b[0m\u001b[38;2;248;248;242;48;2;39;40;34m-y\u001b[0m\u001b[48;2;39;40;34m                                                          \u001b[0m\u001b[48;2;39;39;34m \u001b[0m\u001b[48;2;39;39;34m \u001b[0m\n\u001b[48;2;39;39;34m                                                                                                                   \u001b[0m\n\u001b[38;2;255;255;255;48;2;59;59;55m                                                                                                                   \u001b[0m\n\u001b[38;2;255;255;255;48;2;59;59;55m \u001b[0m\u001b[38;2;255;255;255;48;2;59;59;55m \u001b[0m\u001b[38;2;255;255;255;48;2;59;59;55mOutput truncated. Showing the last 2000 characters.\u001b[0m\u001b[38;2;255;255;255;48;2;59;59;55m                                                            \u001b[0m\u001b[38;2;255;255;255;48;2;59;59;55m \u001b[0m\u001b[38;2;255;255;255;48;2;59;59;55m \u001b[0m\n\u001b[38;2;255;255;255;48;2;59;59;55m \u001b[0m\u001b[38;2;255;255;255;48;2;59;59;55m \u001b[0m\u001b[38;2;255;255;255;48;2;59;59;55m                                                                                                               \u001b[0m\u001b[38;2;255;255;255;48;2;59;59;55m \u001b[0m\u001b[38;2;255;255;255;48;2;59;59;55m \u001b[0m\n\u001b[38;2;255;255;255;48;2;59;59;55m \u001b[0m\u001b[38;2;255;255;255;48;2;59;59;55m \u001b[0m\u001b[38;2;255;255;255;48;2;59;59;55me ... 65%\u001b[0m\u001b[38;2;255;255;255;48;2;59;59;55m                                                                                                      \u001b[0m\u001b[38;2;255;255;255;48;2;59;59;55m \u001b[0m\u001b[38;2;255;255;255;48;2;59;59;55m \u001b[0m\n\u001b[38;2;255;255;255;48;2;59;59;55m \u001b[0m\u001b[38;2;255;255;255;48;2;59;59;55m \u001b[0m\u001b[38;2;255;255;255;48;2;59;59;55m(Reading database ... 70%\u001b[0m\u001b[38;2;255;255;255;48;2;59;59;55m                                                                                      \u001b[0m\u001b[38;2;255;255;255;48;2;59;59;55m \u001b[0m\u001b[38;2;255;255;255;48;2;59;59;55m \u001b[0m\n\u001b[38;2;255;255;255;48;2;59;59;55m \u001b[0m\u001b[38;2;255;255;255;48;2;59;59;55m \u001b[0m\u001b[38;2;255;255;255;48;2;59;59;55m(Reading database ... 75%\u001b[0m\u001b[38;2;255;255;255;48;2;59;59;55m                                                                                      \u001b[0m\u001b[38;2;255;255;255;48;2;59;59;55m \u001b[0m\u001b[38;2;255;255;255;48;2;59;59;55m \u001b[0m\n\u001b[38;2;255;255;255;48;2;59;59;55m \u001b[0m\u001b[38;2;255;255;255;48;2;59;59;55m \u001b[0m\u001b[38;2;255;255;255;48;2;59;59;55m(Reading database ... 80%\u001b[0m\u001b[38;2;255;255;255;48;2;59;59;55m                                                                                      \u001b[0m\u001b[38;2;255;255;255;48;2;59;59;55m \u001b[0m\u001b[38;2;255;255;255;48;2;59;59;55m \u001b[0m\n\u001b[38;2;255;255;255;48;2;59;59;55m \u001b[0m\u001b[38;2;255;255;255;48;2;59;59;55m \u001b[0m\u001b[38;2;255;255;255;48;2;59;59;55m(Reading database ... 85%\u001b[0m\u001b[38;2;255;255;255;48;2;59;59;55m                                                                                      \u001b[0m\u001b[38;2;255;255;255;48;2;59;59;55m \u001b[0m\u001b[38;2;255;255;255;48;2;59;59;55m \u001b[0m\n\u001b[38;2;255;255;255;48;2;59;59;55m \u001b[0m\u001b[38;2;255;255;255;48;2;59;59;55m \u001b[0m\u001b[38;2;255;255;255;48;2;59;59;55m(Reading database ... 90%\u001b[0m\u001b[38;2;255;255;255;48;2;59;59;55m                                                                                      \u001b[0m\u001b[38;2;255;255;255;48;2;59;59;55m \u001b[0m\u001b[38;2;255;255;255;48;2;59;59;55m \u001b[0m\n\u001b[38;2;255;255;255;48;2;59;59;55m \u001b[0m\u001b[38;2;255;255;255;48;2;59;59;55m \u001b[0m\u001b[38;2;255;255;255;48;2;59;59;55m(Reading database ... 95%\u001b[0m\u001b[38;2;255;255;255;48;2;59;59;55m                                                                                      \u001b[0m\u001b[38;2;255;255;255;48;2;59;59;55m \u001b[0m\u001b[38;2;255;255;255;48;2;59;59;55m \u001b[0m\n\u001b[38;2;255;255;255;48;2;59;59;55m \u001b[0m\u001b[38;2;255;255;255;48;2;59;59;55m \u001b[0m\u001b[38;2;255;255;255;48;2;59;59;55m(Reading database ... 100%\u001b[0m\u001b[38;2;255;255;255;48;2;59;59;55m                                                                                     \u001b[0m\u001b[38;2;255;255;255;48;2;59;59;55m \u001b[0m\u001b[38;2;255;255;255;48;2;59;59;55m \u001b[0m\n\u001b[38;2;255;255;255;48;2;59;59;55m \u001b[0m\u001b[38;2;255;255;255;48;2;59;59;55m \u001b[0m\u001b[38;2;255;255;255;48;2;59;59;55m(Reading database ... 137259 files and directories currently installed.)\u001b[0m\u001b[38;2;255;255;255;48;2;59;59;55m                                       \u001b[0m\u001b[38;2;255;255;255;48;2;59;59;55m \u001b[0m\u001b[38;2;255;255;255;48;2;59;59;55m \u001b[0m\n\u001b[38;2;255;255;255;48;2;59;59;55m \u001b[0m\u001b[38;2;255;255;255;48;2;59;59;55m \u001b[0m\u001b[38;2;255;255;255;48;2;59;59;55mPreparing to unpack .../0-golang-1.18-doc_1.18.1-1ubuntu1.1_all.deb ...\u001b[0m\u001b[38;2;255;255;255;48;2;59;59;55m                                        \u001b[0m\u001b[38;2;255;255;255;48;2;59;59;55m \u001b[0m\u001b[38;2;255;255;255;48;2;59;59;55m \u001b[0m\n\u001b[38;2;255;255;255;48;2;59;59;55m \u001b[0m\u001b[38;2;255;255;255;48;2;59;59;55m \u001b[0m\u001b[38;2;255;255;255;48;2;59;59;55mUnpacking golang-1.18-doc (1.18.1-1ubuntu1.1) ...\u001b[0m\u001b[38;2;255;255;255;48;2;59;59;55m                                                              \u001b[0m\u001b[38;2;255;255;255;48;2;59;59;55m \u001b[0m\u001b[38;2;255;255;255;48;2;59;59;55m \u001b[0m\n\u001b[38;2;255;255;255;48;2;59;59;55m \u001b[0m\u001b[38;2;255;255;255;48;2;59;59;55m \u001b[0m\u001b[38;2;255;255;255;48;2;59;59;55mSelecting previously unselected package golang-1.18-src.\u001b[0m\u001b[38;2;255;255;255;48;2;59;59;55m                                                       \u001b[0m\u001b[38;2;255;255;255;48;2;59;59;55m \u001b[0m\u001b[38;2;255;255;255;48;2;59;59;55m \u001b[0m\n\u001b[38;2;255;255;255;48;2;59;59;55m \u001b[0m\u001b[38;2;255;255;255;48;2;59;59;55m \u001b[0m\u001b[38;2;255;255;255;48;2;59;59;55mPreparing to unpack .../1-golang-1.18-src_1.18.1-1ubuntu1.1_all.deb ...\u001b[0m\u001b[38;2;255;255;255;48;2;59;59;55m                                        \u001b[0m\u001b[38;2;255;255;255;48;2;59;59;55m \u001b[0m\u001b[38;2;255;255;255;48;2;59;59;55m \u001b[0m\n\u001b[38;2;255;255;255;48;2;59;59;55m \u001b[0m\u001b[38;2;255;255;255;48;2;59;59;55m \u001b[0m\u001b[38;2;255;255;255;48;2;59;59;55mUnpacking golang-1.18-src (1.18.1-1ubuntu1.1) ...\u001b[0m\u001b[38;2;255;255;255;48;2;59;59;55m                                                              \u001b[0m\u001b[38;2;255;255;255;48;2;59;59;55m \u001b[0m\u001b[38;2;255;255;255;48;2;59;59;55m \u001b[0m\n\u001b[38;2;255;255;255;48;2;59;59;55m \u001b[0m\u001b[38;2;255;255;255;48;2;59;59;55m \u001b[0m\u001b[38;2;255;255;255;48;2;59;59;55mSelecting previously unselected package golang-1.18-go.\u001b[0m\u001b[38;2;255;255;255;48;2;59;59;55m                                                        \u001b[0m\u001b[38;2;255;255;255;48;2;59;59;55m \u001b[0m\u001b[38;2;255;255;255;48;2;59;59;55m \u001b[0m\n\u001b[38;2;255;255;255;48;2;59;59;55m \u001b[0m\u001b[38;2;255;255;255;48;2;59;59;55m \u001b[0m\u001b[38;2;255;255;255;48;2;59;59;55mPreparing to unpack .../2-golang-1.18-go_1.18.1-1ubuntu1.1_amd64.deb ...\u001b[0m\u001b[38;2;255;255;255;48;2;59;59;55m                                       \u001b[0m\u001b[38;2;255;255;255;48;2;59;59;55m \u001b[0m\u001b[38;2;255;255;255;48;2;59;59;55m \u001b[0m\n\u001b[38;2;255;255;255;48;2;59;59;55m \u001b[0m\u001b[38;2;255;255;255;48;2;59;59;55m \u001b[0m\u001b[38;2;255;255;255;48;2;59;59;55mUnpacking golang-1.18-go (1.18.1-1ubuntu1.1) ...\u001b[0m\u001b[38;2;255;255;255;48;2;59;59;55m                                                               \u001b[0m\u001b[38;2;255;255;255;48;2;59;59;55m \u001b[0m\u001b[38;2;255;255;255;48;2;59;59;55m \u001b[0m\n\u001b[38;2;255;255;255;48;2;59;59;55m \u001b[0m\u001b[38;2;255;255;255;48;2;59;59;55m \u001b[0m\u001b[38;2;255;255;255;48;2;59;59;55mSelecting previously unselected package golang-1.18.\u001b[0m\u001b[38;2;255;255;255;48;2;59;59;55m                                                           \u001b[0m\u001b[38;2;255;255;255;48;2;59;59;55m \u001b[0m\u001b[38;2;255;255;255;48;2;59;59;55m \u001b[0m\n\u001b[38;2;255;255;255;48;2;59;59;55m \u001b[0m\u001b[38;2;255;255;255;48;2;59;59;55m \u001b[0m\u001b[38;2;255;255;255;48;2;59;59;55mPreparing to unpack .../3-golang-1.18_1.18.1-1ubuntu1.1_all.deb ...\u001b[0m\u001b[38;2;255;255;255;48;2;59;59;55m                                            \u001b[0m\u001b[38;2;255;255;255;48;2;59;59;55m \u001b[0m\u001b[38;2;255;255;255;48;2;59;59;55m \u001b[0m\n\u001b[38;2;255;255;255;48;2;59;59;55m \u001b[0m\u001b[38;2;255;255;255;48;2;59;59;55m \u001b[0m\u001b[38;2;255;255;255;48;2;59;59;55mUnpacking golang-1.18 (1.18.1-1ubuntu1.1) ...\u001b[0m\u001b[38;2;255;255;255;48;2;59;59;55m                                                                  \u001b[0m\u001b[38;2;255;255;255;48;2;59;59;55m \u001b[0m\u001b[38;2;255;255;255;48;2;59;59;55m \u001b[0m\n\u001b[38;2;255;255;255;48;2;59;59;55m \u001b[0m\u001b[38;2;255;255;255;48;2;59;59;55m \u001b[0m\u001b[38;2;255;255;255;48;2;59;59;55mSelecting previously unselected package golang-src.\u001b[0m\u001b[38;2;255;255;255;48;2;59;59;55m                                                            \u001b[0m\u001b[38;2;255;255;255;48;2;59;59;55m \u001b[0m\u001b[38;2;255;255;255;48;2;59;59;55m \u001b[0m\n\u001b[38;2;255;255;255;48;2;59;59;55m \u001b[0m\u001b[38;2;255;255;255;48;2;59;59;55m \u001b[0m\u001b[38;2;255;255;255;48;2;59;59;55mPreparing to unpack .../4-golang-src_2%3a1.18~0ubuntu2_all.deb ...\u001b[0m\u001b[38;2;255;255;255;48;2;59;59;55m                                             \u001b[0m\u001b[38;2;255;255;255;48;2;59;59;55m \u001b[0m\u001b[38;2;255;255;255;48;2;59;59;55m \u001b[0m\n\u001b[38;2;255;255;255;48;2;59;59;55m \u001b[0m\u001b[38;2;255;255;255;48;2;59;59;55m \u001b[0m\u001b[38;2;255;255;255;48;2;59;59;55mUnpacking golang-src (2:1.18~0ubuntu2) ...\u001b[0m\u001b[38;2;255;255;255;48;2;59;59;55m                                                                     \u001b[0m\u001b[38;2;255;255;255;48;2;59;59;55m \u001b[0m\u001b[38;2;255;255;255;48;2;59;59;55m \u001b[0m\n\u001b[38;2;255;255;255;48;2;59;59;55m \u001b[0m\u001b[38;2;255;255;255;48;2;59;59;55m \u001b[0m\u001b[38;2;255;255;255;48;2;59;59;55mSelecting previously unselected package golang-go:amd64.\u001b[0m\u001b[38;2;255;255;255;48;2;59;59;55m                                                       \u001b[0m\u001b[38;2;255;255;255;48;2;59;59;55m \u001b[0m\u001b[38;2;255;255;255;48;2;59;59;55m \u001b[0m\n\u001b[38;2;255;255;255;48;2;59;59;55m \u001b[0m\u001b[38;2;255;255;255;48;2;59;59;55m \u001b[0m\u001b[38;2;255;255;255;48;2;59;59;55mPreparing to unpack .../5-golang-go_2%3a1.18~0ubuntu2_amd64.deb ...\u001b[0m\u001b[38;2;255;255;255;48;2;59;59;55m                                            \u001b[0m\u001b[38;2;255;255;255;48;2;59;59;55m \u001b[0m\u001b[38;2;255;255;255;48;2;59;59;55m \u001b[0m\n\u001b[38;2;255;255;255;48;2;59;59;55m \u001b[0m\u001b[38;2;255;255;255;48;2;59;59;55m \u001b[0m\u001b[38;2;255;255;255;48;2;59;59;55mUnpacking golang-go:amd64 (2:1.18~0ubuntu2) ...\u001b[0m\u001b[38;2;255;255;255;48;2;59;59;55m                                                                \u001b[0m\u001b[38;2;255;255;255;48;2;59;59;55m \u001b[0m\u001b[38;2;255;255;255;48;2;59;59;55m \u001b[0m\n\u001b[38;2;255;255;255;48;2;59;59;55m \u001b[0m\u001b[38;2;255;255;255;48;2;59;59;55m \u001b[0m\u001b[38;2;255;255;255;48;2;59;59;55mSelecting previously unselected package golang-doc.\u001b[0m\u001b[38;2;255;255;255;48;2;59;59;55m                                                            \u001b[0m\u001b[38;2;255;255;255;48;2;59;59;55m \u001b[0m\u001b[38;2;255;255;255;48;2;59;59;55m \u001b[0m\n\u001b[38;2;255;255;255;48;2;59;59;55m \u001b[0m\u001b[38;2;255;255;255;48;2;59;59;55m \u001b[0m\u001b[38;2;255;255;255;48;2;59;59;55mPreparing to unpack .../6-golang-doc_2%3a1.18~0ubuntu2_all.deb ...\u001b[0m\u001b[38;2;255;255;255;48;2;59;59;55m                                             \u001b[0m\u001b[38;2;255;255;255;48;2;59;59;55m \u001b[0m\u001b[38;2;255;255;255;48;2;59;59;55m \u001b[0m\n\u001b[38;2;255;255;255;48;2;59;59;55m \u001b[0m\u001b[38;2;255;255;255;48;2;59;59;55m \u001b[0m\u001b[38;2;255;255;255;48;2;59;59;55mUnpacking golang-doc (2:1.18~0ubuntu2) ...\u001b[0m\u001b[38;2;255;255;255;48;2;59;59;55m                                                                     \u001b[0m\u001b[38;2;255;255;255;48;2;59;59;55m \u001b[0m\u001b[38;2;255;255;255;48;2;59;59;55m \u001b[0m\n\u001b[38;2;255;255;255;48;2;59;59;55m \u001b[0m\u001b[38;2;255;255;255;48;2;59;59;55m \u001b[0m\u001b[38;2;255;255;255;48;2;59;59;55mSelecting previously unselected package golang:amd64.\u001b[0m\u001b[38;2;255;255;255;48;2;59;59;55m                                                          \u001b[0m\u001b[38;2;255;255;255;48;2;59;59;55m \u001b[0m\u001b[38;2;255;255;255;48;2;59;59;55m \u001b[0m\n\u001b[38;2;255;255;255;48;2;59;59;55m \u001b[0m\u001b[38;2;255;255;255;48;2;59;59;55m \u001b[0m\u001b[38;2;255;255;255;48;2;59;59;55mPreparing to unpack .../7-golang_2%3a1.18~0ubuntu2_amd64.deb ...\u001b[0m\u001b[38;2;255;255;255;48;2;59;59;55m                                               \u001b[0m\u001b[38;2;255;255;255;48;2;59;59;55m \u001b[0m\u001b[38;2;255;255;255;48;2;59;59;55m \u001b[0m\n\u001b[38;2;255;255;255;48;2;59;59;55m \u001b[0m\u001b[38;2;255;255;255;48;2;59;59;55m \u001b[0m\u001b[38;2;255;255;255;48;2;59;59;55mUnpacking golang:amd64 (2:1.18~0ubuntu2) ...\u001b[0m\u001b[38;2;255;255;255;48;2;59;59;55m                                                                   \u001b[0m\u001b[38;2;255;255;255;48;2;59;59;55m \u001b[0m\u001b[38;2;255;255;255;48;2;59;59;55m \u001b[0m\n\u001b[38;2;255;255;255;48;2;59;59;55m \u001b[0m\u001b[38;2;255;255;255;48;2;59;59;55m \u001b[0m\u001b[38;2;255;255;255;48;2;59;59;55mSetting up golang-1.18-doc (1.18.1-1ubuntu1.1) ...\u001b[0m\u001b[38;2;255;255;255;48;2;59;59;55m                                                             \u001b[0m\u001b[38;2;255;255;255;48;2;59;59;55m \u001b[0m\u001b[38;2;255;255;255;48;2;59;59;55m \u001b[0m\n\u001b[38;2;255;255;255;48;2;59;59;55m \u001b[0m\u001b[38;2;255;255;255;48;2;59;59;55m \u001b[0m\u001b[38;2;255;255;255;48;2;59;59;55mSetting up golang-1.18-src (1.18.1-1ubuntu1.1) ...\u001b[0m\u001b[38;2;255;255;255;48;2;59;59;55m                                                             \u001b[0m\u001b[38;2;255;255;255;48;2;59;59;55m \u001b[0m\u001b[38;2;255;255;255;48;2;59;59;55m \u001b[0m\n\u001b[38;2;255;255;255;48;2;59;59;55m \u001b[0m\u001b[38;2;255;255;255;48;2;59;59;55m \u001b[0m\u001b[38;2;255;255;255;48;2;59;59;55mSetting up golang-src (2:1.18~0ubuntu2) ...\u001b[0m\u001b[38;2;255;255;255;48;2;59;59;55m                                                                    \u001b[0m\u001b[38;2;255;255;255;48;2;59;59;55m \u001b[0m\u001b[38;2;255;255;255;48;2;59;59;55m \u001b[0m\n\u001b[38;2;255;255;255;48;2;59;59;55m \u001b[0m\u001b[38;2;255;255;255;48;2;59;59;55m \u001b[0m\u001b[38;2;255;255;255;48;2;59;59;55mSetting up golang-1.18-go (1.18.1-1ubuntu1.1) ...\u001b[0m\u001b[38;2;255;255;255;48;2;59;59;55m                                                              \u001b[0m\u001b[38;2;255;255;255;48;2;59;59;55m \u001b[0m\u001b[38;2;255;255;255;48;2;59;59;55m \u001b[0m\n\u001b[38;2;255;255;255;48;2;59;59;55m \u001b[0m\u001b[38;2;255;255;255;48;2;59;59;55m \u001b[0m\u001b[38;2;255;255;255;48;2;59;59;55mSetting up golang-1.18 (1.18.1-1ubuntu1.1) ...\u001b[0m\u001b[38;2;255;255;255;48;2;59;59;55m                                                                 \u001b[0m\u001b[38;2;255;255;255;48;2;59;59;55m \u001b[0m\u001b[38;2;255;255;255;48;2;59;59;55m \u001b[0m\n\u001b[38;2;255;255;255;48;2;59;59;55m \u001b[0m\u001b[38;2;255;255;255;48;2;59;59;55m \u001b[0m\u001b[38;2;255;255;255;48;2;59;59;55mSetting up golang-go:amd64 (2:1.18~0ubuntu2) ...\u001b[0m\u001b[38;2;255;255;255;48;2;59;59;55m                                                               \u001b[0m\u001b[38;2;255;255;255;48;2;59;59;55m \u001b[0m\u001b[38;2;255;255;255;48;2;59;59;55m \u001b[0m\n\u001b[38;2;255;255;255;48;2;59;59;55m \u001b[0m\u001b[38;2;255;255;255;48;2;59;59;55m \u001b[0m\u001b[38;2;255;255;255;48;2;59;59;55mSetting up golang-doc (2:1.18~0ubuntu2) ...\u001b[0m\u001b[38;2;255;255;255;48;2;59;59;55m                                                                    \u001b[0m\u001b[38;2;255;255;255;48;2;59;59;55m \u001b[0m\u001b[38;2;255;255;255;48;2;59;59;55m \u001b[0m\n\u001b[38;2;255;255;255;48;2;59;59;55m \u001b[0m\u001b[38;2;255;255;255;48;2;59;59;55m \u001b[0m\u001b[38;2;255;255;255;48;2;59;59;55mSetting up golang:amd64 (2:1.18~0ubuntu2) ...\u001b[0m\u001b[38;2;255;255;255;48;2;59;59;55m                                                                  \u001b[0m\u001b[38;2;255;255;255;48;2;59;59;55m \u001b[0m\u001b[38;2;255;255;255;48;2;59;59;55m \u001b[0m\n\u001b[38;2;255;255;255;48;2;59;59;55m \u001b[0m\u001b[38;2;255;255;255;48;2;59;59;55m \u001b[0m\u001b[38;2;255;255;255;48;2;59;59;55mProcessing triggers for man-db (2.10.2-1) ...\u001b[0m\u001b[38;2;255;255;255;48;2;59;59;55m                                                                  \u001b[0m\u001b[38;2;255;255;255;48;2;59;59;55m \u001b[0m\u001b[38;2;255;255;255;48;2;59;59;55m \u001b[0m\n\u001b[38;2;255;255;255;48;2;59;59;55m                                                                                                                   \u001b[0m\n",
                  "text/html": "<pre style=\"white-space:pre;overflow-x:auto;line-height:normal;font-family:Menlo,'DejaVu Sans Mono',consolas,'Courier New',monospace\"><span style=\"background-color: #272722\">                                                                                                                   </span>\n<span style=\"background-color: #272722\">  </span><span style=\"color: #f8f8f2; text-decoration-color: #f8f8f2; background-color: #272822\">sudo apt-get update </span><span style=\"color: #ff4689; text-decoration-color: #ff4689; background-color: #272822\">&amp;&amp;</span><span style=\"color: #f8f8f2; text-decoration-color: #f8f8f2; background-color: #272822\"> sudo apt-get install golang -y</span><span style=\"background-color: #272822\">                                                          </span><span style=\"background-color: #272722\">  </span>\n<span style=\"background-color: #272722\">                                                                                                                   </span>\n<span style=\"color: #ffffff; text-decoration-color: #ffffff; background-color: #3b3b37\">                                                                                                                   </span>\n<span style=\"color: #ffffff; text-decoration-color: #ffffff; background-color: #3b3b37\">  Output truncated. Showing the last 2000 characters.                                                              </span>\n<span style=\"color: #ffffff; text-decoration-color: #ffffff; background-color: #3b3b37\">                                                                                                                   </span>\n<span style=\"color: #ffffff; text-decoration-color: #ffffff; background-color: #3b3b37\">  e ... 65%                                                                                                        </span>\n<span style=\"color: #ffffff; text-decoration-color: #ffffff; background-color: #3b3b37\">  (Reading database ... 70%                                                                                        </span>\n<span style=\"color: #ffffff; text-decoration-color: #ffffff; background-color: #3b3b37\">  (Reading database ... 75%                                                                                        </span>\n<span style=\"color: #ffffff; text-decoration-color: #ffffff; background-color: #3b3b37\">  (Reading database ... 80%                                                                                        </span>\n<span style=\"color: #ffffff; text-decoration-color: #ffffff; background-color: #3b3b37\">  (Reading database ... 85%                                                                                        </span>\n<span style=\"color: #ffffff; text-decoration-color: #ffffff; background-color: #3b3b37\">  (Reading database ... 90%                                                                                        </span>\n<span style=\"color: #ffffff; text-decoration-color: #ffffff; background-color: #3b3b37\">  (Reading database ... 95%                                                                                        </span>\n<span style=\"color: #ffffff; text-decoration-color: #ffffff; background-color: #3b3b37\">  (Reading database ... 100%                                                                                       </span>\n<span style=\"color: #ffffff; text-decoration-color: #ffffff; background-color: #3b3b37\">  (Reading database ... 137259 files and directories currently installed.)                                         </span>\n<span style=\"color: #ffffff; text-decoration-color: #ffffff; background-color: #3b3b37\">  Preparing to unpack .../0-golang-1.18-doc_1.18.1-1ubuntu1.1_all.deb ...                                          </span>\n<span style=\"color: #ffffff; text-decoration-color: #ffffff; background-color: #3b3b37\">  Unpacking golang-1.18-doc (1.18.1-1ubuntu1.1) ...                                                                </span>\n<span style=\"color: #ffffff; text-decoration-color: #ffffff; background-color: #3b3b37\">  Selecting previously unselected package golang-1.18-src.                                                         </span>\n<span style=\"color: #ffffff; text-decoration-color: #ffffff; background-color: #3b3b37\">  Preparing to unpack .../1-golang-1.18-src_1.18.1-1ubuntu1.1_all.deb ...                                          </span>\n<span style=\"color: #ffffff; text-decoration-color: #ffffff; background-color: #3b3b37\">  Unpacking golang-1.18-src (1.18.1-1ubuntu1.1) ...                                                                </span>\n<span style=\"color: #ffffff; text-decoration-color: #ffffff; background-color: #3b3b37\">  Selecting previously unselected package golang-1.18-go.                                                          </span>\n<span style=\"color: #ffffff; text-decoration-color: #ffffff; background-color: #3b3b37\">  Preparing to unpack .../2-golang-1.18-go_1.18.1-1ubuntu1.1_amd64.deb ...                                         </span>\n<span style=\"color: #ffffff; text-decoration-color: #ffffff; background-color: #3b3b37\">  Unpacking golang-1.18-go (1.18.1-1ubuntu1.1) ...                                                                 </span>\n<span style=\"color: #ffffff; text-decoration-color: #ffffff; background-color: #3b3b37\">  Selecting previously unselected package golang-1.18.                                                             </span>\n<span style=\"color: #ffffff; text-decoration-color: #ffffff; background-color: #3b3b37\">  Preparing to unpack .../3-golang-1.18_1.18.1-1ubuntu1.1_all.deb ...                                              </span>\n<span style=\"color: #ffffff; text-decoration-color: #ffffff; background-color: #3b3b37\">  Unpacking golang-1.18 (1.18.1-1ubuntu1.1) ...                                                                    </span>\n<span style=\"color: #ffffff; text-decoration-color: #ffffff; background-color: #3b3b37\">  Selecting previously unselected package golang-src.                                                              </span>\n<span style=\"color: #ffffff; text-decoration-color: #ffffff; background-color: #3b3b37\">  Preparing to unpack .../4-golang-src_2%3a1.18~0ubuntu2_all.deb ...                                               </span>\n<span style=\"color: #ffffff; text-decoration-color: #ffffff; background-color: #3b3b37\">  Unpacking golang-src (2:1.18~0ubuntu2) ...                                                                       </span>\n<span style=\"color: #ffffff; text-decoration-color: #ffffff; background-color: #3b3b37\">  Selecting previously unselected package golang-go:amd64.                                                         </span>\n<span style=\"color: #ffffff; text-decoration-color: #ffffff; background-color: #3b3b37\">  Preparing to unpack .../5-golang-go_2%3a1.18~0ubuntu2_amd64.deb ...                                              </span>\n<span style=\"color: #ffffff; text-decoration-color: #ffffff; background-color: #3b3b37\">  Unpacking golang-go:amd64 (2:1.18~0ubuntu2) ...                                                                  </span>\n<span style=\"color: #ffffff; text-decoration-color: #ffffff; background-color: #3b3b37\">  Selecting previously unselected package golang-doc.                                                              </span>\n<span style=\"color: #ffffff; text-decoration-color: #ffffff; background-color: #3b3b37\">  Preparing to unpack .../6-golang-doc_2%3a1.18~0ubuntu2_all.deb ...                                               </span>\n<span style=\"color: #ffffff; text-decoration-color: #ffffff; background-color: #3b3b37\">  Unpacking golang-doc (2:1.18~0ubuntu2) ...                                                                       </span>\n<span style=\"color: #ffffff; text-decoration-color: #ffffff; background-color: #3b3b37\">  Selecting previously unselected package golang:amd64.                                                            </span>\n<span style=\"color: #ffffff; text-decoration-color: #ffffff; background-color: #3b3b37\">  Preparing to unpack .../7-golang_2%3a1.18~0ubuntu2_amd64.deb ...                                                 </span>\n<span style=\"color: #ffffff; text-decoration-color: #ffffff; background-color: #3b3b37\">  Unpacking golang:amd64 (2:1.18~0ubuntu2) ...                                                                     </span>\n<span style=\"color: #ffffff; text-decoration-color: #ffffff; background-color: #3b3b37\">  Setting up golang-1.18-doc (1.18.1-1ubuntu1.1) ...                                                               </span>\n<span style=\"color: #ffffff; text-decoration-color: #ffffff; background-color: #3b3b37\">  Setting up golang-1.18-src (1.18.1-1ubuntu1.1) ...                                                               </span>\n<span style=\"color: #ffffff; text-decoration-color: #ffffff; background-color: #3b3b37\">  Setting up golang-src (2:1.18~0ubuntu2) ...                                                                      </span>\n<span style=\"color: #ffffff; text-decoration-color: #ffffff; background-color: #3b3b37\">  Setting up golang-1.18-go (1.18.1-1ubuntu1.1) ...                                                                </span>\n<span style=\"color: #ffffff; text-decoration-color: #ffffff; background-color: #3b3b37\">  Setting up golang-1.18 (1.18.1-1ubuntu1.1) ...                                                                   </span>\n<span style=\"color: #ffffff; text-decoration-color: #ffffff; background-color: #3b3b37\">  Setting up golang-go:amd64 (2:1.18~0ubuntu2) ...                                                                 </span>\n<span style=\"color: #ffffff; text-decoration-color: #ffffff; background-color: #3b3b37\">  Setting up golang-doc (2:1.18~0ubuntu2) ...                                                                      </span>\n<span style=\"color: #ffffff; text-decoration-color: #ffffff; background-color: #3b3b37\">  Setting up golang:amd64 (2:1.18~0ubuntu2) ...                                                                    </span>\n<span style=\"color: #ffffff; text-decoration-color: #ffffff; background-color: #3b3b37\">  Processing triggers for man-db (2.10.2-1) ...                                                                    </span>\n<span style=\"color: #ffffff; text-decoration-color: #ffffff; background-color: #3b3b37\">                                                                                                                   </span>\n</pre>\n"
                },
                "metadata": {}
              }
            ]
          }
        },
        "fde4ada277ad477f8f8540fa6b8aa9bf": {
          "model_module": "@jupyter-widgets/base",
          "model_name": "LayoutModel",
          "model_module_version": "1.2.0",
          "state": {
            "_model_module": "@jupyter-widgets/base",
            "_model_module_version": "1.2.0",
            "_model_name": "LayoutModel",
            "_view_count": null,
            "_view_module": "@jupyter-widgets/base",
            "_view_module_version": "1.2.0",
            "_view_name": "LayoutView",
            "align_content": null,
            "align_items": null,
            "align_self": null,
            "border": null,
            "bottom": null,
            "display": null,
            "flex": null,
            "flex_flow": null,
            "grid_area": null,
            "grid_auto_columns": null,
            "grid_auto_flow": null,
            "grid_auto_rows": null,
            "grid_column": null,
            "grid_gap": null,
            "grid_row": null,
            "grid_template_areas": null,
            "grid_template_columns": null,
            "grid_template_rows": null,
            "height": null,
            "justify_content": null,
            "justify_items": null,
            "left": null,
            "margin": null,
            "max_height": null,
            "max_width": null,
            "min_height": null,
            "min_width": null,
            "object_fit": null,
            "object_position": null,
            "order": null,
            "overflow": null,
            "overflow_x": null,
            "overflow_y": null,
            "padding": null,
            "right": null,
            "top": null,
            "visibility": null,
            "width": null
          }
        },
        "01f5063194614551b55ab59ee5b408f0": {
          "model_module": "@jupyter-widgets/output",
          "model_name": "OutputModel",
          "model_module_version": "1.0.0",
          "state": {
            "_dom_classes": [],
            "_model_module": "@jupyter-widgets/output",
            "_model_module_version": "1.0.0",
            "_model_name": "OutputModel",
            "_view_count": null,
            "_view_module": "@jupyter-widgets/output",
            "_view_module_version": "1.0.0",
            "_view_name": "OutputView",
            "layout": "IPY_MODEL_cf8c2dca8117416aad885d81b316cca7",
            "msg_id": "",
            "outputs": [
              {
                "output_type": "display_data",
                "data": {
                  "text/plain": "                                                                                                                   \n  Goのインストールが完了しました。次に、Goでフィボナッチ数列を生成する関数を作成します。                           \n                                                                                                                   \n  以下のコードを実行します：                                                                                       \n                                                                                                                   \n  \u001b[48;2;39;40;34m                                                                                                               \u001b[0m  \n  \u001b[48;2;39;40;34m \u001b[0m\u001b[38;2;248;248;242;48;2;39;40;34mpackage main\u001b[0m\u001b[48;2;39;40;34m                                                                                                 \u001b[0m\u001b[48;2;39;40;34m \u001b[0m  \n  \u001b[48;2;39;40;34m \u001b[0m\u001b[48;2;39;40;34m                                                                                                             \u001b[0m\u001b[48;2;39;40;34m \u001b[0m  \n  \u001b[48;2;39;40;34m \u001b[0m\u001b[38;2;248;248;242;48;2;39;40;34mimport \"fmt\"\u001b[0m\u001b[48;2;39;40;34m                                                                                                 \u001b[0m\u001b[48;2;39;40;34m \u001b[0m  \n  \u001b[48;2;39;40;34m \u001b[0m\u001b[48;2;39;40;34m                                                                                                             \u001b[0m\u001b[48;2;39;40;34m \u001b[0m  \n  \u001b[48;2;39;40;34m \u001b[0m\u001b[38;2;248;248;242;48;2;39;40;34mfunc fibonacci(n int) []int {\u001b[0m\u001b[48;2;39;40;34m                                                                                \u001b[0m\u001b[48;2;39;40;34m \u001b[0m  \n  \u001b[48;2;39;40;34m \u001b[0m\u001b[38;2;248;248;242;48;2;39;40;34m    fibs := make([]int, n)\u001b[0m\u001b[48;2;39;40;34m                                                                                   \u001b[0m\u001b[48;2;39;40;34m \u001b[0m  \n  \u001b[48;2;39;40;34m \u001b[0m\u001b[38;2;248;248;242;48;2;39;40;34m    fibs[0], fibs[1] = 0, 1\u001b[0m\u001b[48;2;39;40;34m                                                                                  \u001b[0m\u001b[48;2;39;40;34m \u001b[0m  \n  \u001b[48;2;39;40;34m \u001b[0m\u001b[38;2;248;248;242;48;2;39;40;34m    for i := 2; i < n; i++ {\u001b[0m\u001b[48;2;39;40;34m                                                                                 \u001b[0m\u001b[48;2;39;40;34m \u001b[0m  \n  \u001b[48;2;39;40;34m \u001b[0m\u001b[38;2;248;248;242;48;2;39;40;34m        fibs[i] = fibs[i-1] + fibs[i-2]\u001b[0m\u001b[48;2;39;40;34m                                                                      \u001b[0m\u001b[48;2;39;40;34m \u001b[0m  \n  \u001b[48;2;39;40;34m \u001b[0m\u001b[38;2;248;248;242;48;2;39;40;34m    }\u001b[0m\u001b[48;2;39;40;34m                                                                                                        \u001b[0m\u001b[48;2;39;40;34m \u001b[0m  \n  \u001b[48;2;39;40;34m \u001b[0m\u001b[38;2;248;248;242;48;2;39;40;34m    return fibs\u001b[0m\u001b[48;2;39;40;34m                                                                                              \u001b[0m\u001b[48;2;39;40;34m \u001b[0m  \n  \u001b[48;2;39;40;34m \u001b[0m\u001b[38;2;248;248;242;48;2;39;40;34m}\u001b[0m\u001b[48;2;39;40;34m                                                                                                            \u001b[0m\u001b[48;2;39;40;34m \u001b[0m  \n  \u001b[48;2;39;40;34m \u001b[0m\u001b[48;2;39;40;34m                                                                                                             \u001b[0m\u001b[48;2;39;40;34m \u001b[0m  \n  \u001b[48;2;39;40;34m \u001b[0m\u001b[38;2;248;248;242;48;2;39;40;34mfunc main() {\u001b[0m\u001b[48;2;39;40;34m                                                                                                \u001b[0m\u001b[48;2;39;40;34m \u001b[0m  \n  \u001b[48;2;39;40;34m \u001b[0m\u001b[38;2;248;248;242;48;2;39;40;34m    fmt.Println(fibonacci(20))\u001b[0m\u001b[48;2;39;40;34m                                                                               \u001b[0m\u001b[48;2;39;40;34m \u001b[0m  \n  \u001b[48;2;39;40;34m \u001b[0m\u001b[38;2;248;248;242;48;2;39;40;34m}\u001b[0m\u001b[48;2;39;40;34m                                                                                                            \u001b[0m\u001b[48;2;39;40;34m \u001b[0m  \n  \u001b[48;2;39;40;34m                                                                                                               \u001b[0m  \n                                                                                                                   \n  このコードは、フィボナッチ数列の最初の20項を生成します。それでは、このコードを実行してみましょう。ただし、G      \n  oのコードは一時的なファイルに保存してから実行する必要があります。そのため、まずはコードを一時的なファイルに保存  \n  ます。                                                                                                           \n                                                                                                                   \n",
                  "text/html": "<pre style=\"white-space:pre;overflow-x:auto;line-height:normal;font-family:Menlo,'DejaVu Sans Mono',consolas,'Courier New',monospace\">                                                                                                                   \n  Goのインストールが完了しました。次に、Goでフィボナッチ数列を生成する関数を作成します。                           \n                                                                                                                   \n  以下のコードを実行します：                                                                                       \n                                                                                                                   \n  <span style=\"background-color: #272822\">                                                                                                               </span>  \n  <span style=\"background-color: #272822\"> </span><span style=\"color: #f8f8f2; text-decoration-color: #f8f8f2; background-color: #272822\">package main</span><span style=\"background-color: #272822\">                                                                                                  </span>  \n  <span style=\"background-color: #272822\">                                                                                                               </span>  \n  <span style=\"background-color: #272822\"> </span><span style=\"color: #f8f8f2; text-decoration-color: #f8f8f2; background-color: #272822\">import \"fmt\"</span><span style=\"background-color: #272822\">                                                                                                  </span>  \n  <span style=\"background-color: #272822\">                                                                                                               </span>  \n  <span style=\"background-color: #272822\"> </span><span style=\"color: #f8f8f2; text-decoration-color: #f8f8f2; background-color: #272822\">func fibonacci(n int) []int {</span><span style=\"background-color: #272822\">                                                                                 </span>  \n  <span style=\"background-color: #272822\"> </span><span style=\"color: #f8f8f2; text-decoration-color: #f8f8f2; background-color: #272822\">    fibs := make([]int, n)</span><span style=\"background-color: #272822\">                                                                                    </span>  \n  <span style=\"background-color: #272822\"> </span><span style=\"color: #f8f8f2; text-decoration-color: #f8f8f2; background-color: #272822\">    fibs[0], fibs[1] = 0, 1</span><span style=\"background-color: #272822\">                                                                                   </span>  \n  <span style=\"background-color: #272822\"> </span><span style=\"color: #f8f8f2; text-decoration-color: #f8f8f2; background-color: #272822\">    for i := 2; i &lt; n; i++ {</span><span style=\"background-color: #272822\">                                                                                  </span>  \n  <span style=\"background-color: #272822\"> </span><span style=\"color: #f8f8f2; text-decoration-color: #f8f8f2; background-color: #272822\">        fibs[i] = fibs[i-1] + fibs[i-2]</span><span style=\"background-color: #272822\">                                                                       </span>  \n  <span style=\"background-color: #272822\"> </span><span style=\"color: #f8f8f2; text-decoration-color: #f8f8f2; background-color: #272822\">    }</span><span style=\"background-color: #272822\">                                                                                                         </span>  \n  <span style=\"background-color: #272822\"> </span><span style=\"color: #f8f8f2; text-decoration-color: #f8f8f2; background-color: #272822\">    return fibs</span><span style=\"background-color: #272822\">                                                                                               </span>  \n  <span style=\"background-color: #272822\"> </span><span style=\"color: #f8f8f2; text-decoration-color: #f8f8f2; background-color: #272822\">}</span><span style=\"background-color: #272822\">                                                                                                             </span>  \n  <span style=\"background-color: #272822\">                                                                                                               </span>  \n  <span style=\"background-color: #272822\"> </span><span style=\"color: #f8f8f2; text-decoration-color: #f8f8f2; background-color: #272822\">func main() {</span><span style=\"background-color: #272822\">                                                                                                 </span>  \n  <span style=\"background-color: #272822\"> </span><span style=\"color: #f8f8f2; text-decoration-color: #f8f8f2; background-color: #272822\">    fmt.Println(fibonacci(20))</span><span style=\"background-color: #272822\">                                                                                </span>  \n  <span style=\"background-color: #272822\"> </span><span style=\"color: #f8f8f2; text-decoration-color: #f8f8f2; background-color: #272822\">}</span><span style=\"background-color: #272822\">                                                                                                             </span>  \n  <span style=\"background-color: #272822\">                                                                                                               </span>  \n                                                                                                                   \n  このコードは、フィボナッチ数列の最初の20項を生成します。それでは、このコードを実行してみましょう。ただし、G      \n  oのコードは一時的なファイルに保存してから実行する必要があります。そのため、まずはコードを一時的なファイルに保存  \n  ます。                                                                                                           \n                                                                                                                   \n</pre>\n"
                },
                "metadata": {}
              }
            ]
          }
        },
        "cf8c2dca8117416aad885d81b316cca7": {
          "model_module": "@jupyter-widgets/base",
          "model_name": "LayoutModel",
          "model_module_version": "1.2.0",
          "state": {
            "_model_module": "@jupyter-widgets/base",
            "_model_module_version": "1.2.0",
            "_model_name": "LayoutModel",
            "_view_count": null,
            "_view_module": "@jupyter-widgets/base",
            "_view_module_version": "1.2.0",
            "_view_name": "LayoutView",
            "align_content": null,
            "align_items": null,
            "align_self": null,
            "border": null,
            "bottom": null,
            "display": null,
            "flex": null,
            "flex_flow": null,
            "grid_area": null,
            "grid_auto_columns": null,
            "grid_auto_flow": null,
            "grid_auto_rows": null,
            "grid_column": null,
            "grid_gap": null,
            "grid_row": null,
            "grid_template_areas": null,
            "grid_template_columns": null,
            "grid_template_rows": null,
            "height": null,
            "justify_content": null,
            "justify_items": null,
            "left": null,
            "margin": null,
            "max_height": null,
            "max_width": null,
            "min_height": null,
            "min_width": null,
            "object_fit": null,
            "object_position": null,
            "order": null,
            "overflow": null,
            "overflow_x": null,
            "overflow_y": null,
            "padding": null,
            "right": null,
            "top": null,
            "visibility": null,
            "width": null
          }
        },
        "bde208253fbf4fa8b228d93d19a4abcc": {
          "model_module": "@jupyter-widgets/output",
          "model_name": "OutputModel",
          "model_module_version": "1.0.0",
          "state": {
            "_dom_classes": [],
            "_model_module": "@jupyter-widgets/output",
            "_model_module_version": "1.0.0",
            "_model_name": "OutputModel",
            "_view_count": null,
            "_view_module": "@jupyter-widgets/output",
            "_view_module_version": "1.0.0",
            "_view_name": "OutputView",
            "layout": "IPY_MODEL_f9442b170aca4c24b48b45b55a0d7310",
            "msg_id": "",
            "outputs": [
              {
                "output_type": "display_data",
                "data": {
                  "text/plain": "\u001b[48;2;39;39;34m                                                                                                                   \u001b[0m\n\u001b[48;2;39;39;34m \u001b[0m\u001b[48;2;39;39;34m \u001b[0m\u001b[38;2;248;248;242;48;2;39;40;34mecho\u001b[0m\u001b[38;2;248;248;242;48;2;39;40;34m \u001b[0m\u001b[38;2;237;0;126;48;2;30;0;16m'\u001b[0m\u001b[38;2;248;248;242;48;2;39;40;34mpackage\u001b[0m\u001b[38;2;248;248;242;48;2;39;40;34m \u001b[0m\u001b[38;2;248;248;242;48;2;39;40;34mmain\u001b[0m\u001b[48;2;39;40;34m                                                                                             \u001b[0m\u001b[48;2;39;39;34m \u001b[0m\u001b[48;2;39;39;34m \u001b[0m\n\u001b[48;2;39;39;34m \u001b[0m\u001b[48;2;39;39;34m \u001b[0m\u001b[48;2;39;40;34m                                                                                                               \u001b[0m\u001b[48;2;39;39;34m \u001b[0m\u001b[48;2;39;39;34m \u001b[0m\n\u001b[48;2;39;39;34m \u001b[0m\u001b[48;2;39;39;34m \u001b[0m\u001b[38;2;248;248;242;48;2;39;40;34mimport\u001b[0m\u001b[38;2;248;248;242;48;2;39;40;34m \u001b[0m\u001b[38;2;230;219;116;48;2;39;40;34m\"fmt\"\u001b[0m\u001b[48;2;39;40;34m                                                                                                   \u001b[0m\u001b[48;2;39;39;34m \u001b[0m\u001b[48;2;39;39;34m \u001b[0m\n\u001b[48;2;39;39;34m \u001b[0m\u001b[48;2;39;39;34m \u001b[0m\u001b[48;2;39;40;34m                                                                                                               \u001b[0m\u001b[48;2;39;39;34m \u001b[0m\u001b[48;2;39;39;34m \u001b[0m\n\u001b[48;2;39;39;34m \u001b[0m\u001b[48;2;39;39;34m \u001b[0m\u001b[38;2;248;248;242;48;2;39;40;34mfunc\u001b[0m\u001b[38;2;248;248;242;48;2;39;40;34m \u001b[0m\u001b[38;2;248;248;242;48;2;39;40;34mfibonacci\u001b[0m\u001b[38;2;255;70;137;48;2;39;40;34m(\u001b[0m\u001b[38;2;248;248;242;48;2;39;40;34mn\u001b[0m\u001b[38;2;248;248;242;48;2;39;40;34m \u001b[0m\u001b[38;2;248;248;242;48;2;39;40;34mint\u001b[0m\u001b[38;2;255;70;137;48;2;39;40;34m)\u001b[0m\u001b[38;2;248;248;242;48;2;39;40;34m \u001b[0m\u001b[38;2;255;70;137;48;2;39;40;34m[\u001b[0m\u001b[38;2;255;70;137;48;2;39;40;34m]\u001b[0m\u001b[38;2;248;248;242;48;2;39;40;34mint\u001b[0m\u001b[38;2;248;248;242;48;2;39;40;34m \u001b[0m\u001b[38;2;255;70;137;48;2;39;40;34m{\u001b[0m\u001b[48;2;39;40;34m                                                                                  \u001b[0m\u001b[48;2;39;39;34m \u001b[0m\u001b[48;2;39;39;34m \u001b[0m\n\u001b[48;2;39;39;34m \u001b[0m\u001b[48;2;39;39;34m \u001b[0m\u001b[38;2;248;248;242;48;2;39;40;34m    \u001b[0m\u001b[38;2;248;248;242;48;2;39;40;34mfibs\u001b[0m\u001b[38;2;248;248;242;48;2;39;40;34m \u001b[0m\u001b[38;2;248;248;242;48;2;39;40;34m:\u001b[0m\u001b[38;2;255;70;137;48;2;39;40;34m=\u001b[0m\u001b[38;2;248;248;242;48;2;39;40;34m \u001b[0m\u001b[38;2;248;248;242;48;2;39;40;34mmake\u001b[0m\u001b[38;2;255;70;137;48;2;39;40;34m(\u001b[0m\u001b[38;2;255;70;137;48;2;39;40;34m[\u001b[0m\u001b[38;2;255;70;137;48;2;39;40;34m]\u001b[0m\u001b[38;2;248;248;242;48;2;39;40;34mint,\u001b[0m\u001b[38;2;248;248;242;48;2;39;40;34m \u001b[0m\u001b[38;2;248;248;242;48;2;39;40;34mn\u001b[0m\u001b[38;2;255;70;137;48;2;39;40;34m)\u001b[0m\u001b[48;2;39;40;34m                                                                                     \u001b[0m\u001b[48;2;39;39;34m \u001b[0m\u001b[48;2;39;39;34m \u001b[0m\n\u001b[48;2;39;39;34m \u001b[0m\u001b[48;2;39;39;34m \u001b[0m\u001b[38;2;248;248;242;48;2;39;40;34m    \u001b[0m\u001b[38;2;248;248;242;48;2;39;40;34mfibs\u001b[0m\u001b[38;2;255;70;137;48;2;39;40;34m[\u001b[0m\u001b[38;2;174;129;255;48;2;39;40;34m0\u001b[0m\u001b[38;2;255;70;137;48;2;39;40;34m]\u001b[0m\u001b[38;2;248;248;242;48;2;39;40;34m,\u001b[0m\u001b[38;2;248;248;242;48;2;39;40;34m \u001b[0m\u001b[38;2;248;248;242;48;2;39;40;34mfibs\u001b[0m\u001b[38;2;255;70;137;48;2;39;40;34m[\u001b[0m\u001b[38;2;174;129;255;48;2;39;40;34m1\u001b[0m\u001b[38;2;255;70;137;48;2;39;40;34m]\u001b[0m\u001b[38;2;248;248;242;48;2;39;40;34m \u001b[0m\u001b[38;2;255;70;137;48;2;39;40;34m=\u001b[0m\u001b[38;2;248;248;242;48;2;39;40;34m \u001b[0m\u001b[38;2;174;129;255;48;2;39;40;34m0\u001b[0m\u001b[38;2;248;248;242;48;2;39;40;34m,\u001b[0m\u001b[38;2;248;248;242;48;2;39;40;34m \u001b[0m\u001b[38;2;174;129;255;48;2;39;40;34m1\u001b[0m\u001b[48;2;39;40;34m                                                                                    \u001b[0m\u001b[48;2;39;39;34m \u001b[0m\u001b[48;2;39;39;34m \u001b[0m\n\u001b[48;2;39;39;34m \u001b[0m\u001b[48;2;39;39;34m \u001b[0m\u001b[38;2;248;248;242;48;2;39;40;34m    \u001b[0m\u001b[38;2;102;217;239;48;2;39;40;34mfor\u001b[0m\u001b[38;2;248;248;242;48;2;39;40;34m \u001b[0m\u001b[38;2;248;248;242;48;2;39;40;34mi\u001b[0m\u001b[38;2;248;248;242;48;2;39;40;34m \u001b[0m\u001b[38;2;248;248;242;48;2;39;40;34m:\u001b[0m\u001b[38;2;255;70;137;48;2;39;40;34m=\u001b[0m\u001b[38;2;248;248;242;48;2;39;40;34m \u001b[0m\u001b[38;2;174;129;255;48;2;39;40;34m2\u001b[0m\u001b[38;2;248;248;242;48;2;39;40;34m;\u001b[0m\u001b[38;2;248;248;242;48;2;39;40;34m \u001b[0m\u001b[38;2;248;248;242;48;2;39;40;34mi\u001b[0m\u001b[38;2;248;248;242;48;2;39;40;34m \u001b[0m\u001b[38;2;248;248;242;48;2;39;40;34m<\u001b[0m\u001b[38;2;248;248;242;48;2;39;40;34m \u001b[0m\u001b[38;2;248;248;242;48;2;39;40;34mn\u001b[0m\u001b[38;2;248;248;242;48;2;39;40;34m;\u001b[0m\u001b[38;2;248;248;242;48;2;39;40;34m \u001b[0m\u001b[38;2;248;248;242;48;2;39;40;34mi++\u001b[0m\u001b[38;2;248;248;242;48;2;39;40;34m \u001b[0m\u001b[38;2;255;70;137;48;2;39;40;34m{\u001b[0m\u001b[48;2;39;40;34m                                                                                   \u001b[0m\u001b[48;2;39;39;34m \u001b[0m\u001b[48;2;39;39;34m \u001b[0m\n\u001b[48;2;39;39;34m \u001b[0m\u001b[48;2;39;39;34m \u001b[0m\u001b[38;2;248;248;242;48;2;39;40;34m        \u001b[0m\u001b[38;2;248;248;242;48;2;39;40;34mfibs\u001b[0m\u001b[38;2;255;70;137;48;2;39;40;34m[\u001b[0m\u001b[38;2;248;248;242;48;2;39;40;34mi\u001b[0m\u001b[38;2;255;70;137;48;2;39;40;34m]\u001b[0m\u001b[38;2;248;248;242;48;2;39;40;34m \u001b[0m\u001b[38;2;255;70;137;48;2;39;40;34m=\u001b[0m\u001b[38;2;248;248;242;48;2;39;40;34m \u001b[0m\u001b[38;2;248;248;242;48;2;39;40;34mfibs\u001b[0m\u001b[38;2;255;70;137;48;2;39;40;34m[\u001b[0m\u001b[38;2;248;248;242;48;2;39;40;34mi-1\u001b[0m\u001b[38;2;255;70;137;48;2;39;40;34m]\u001b[0m\u001b[38;2;248;248;242;48;2;39;40;34m \u001b[0m\u001b[38;2;248;248;242;48;2;39;40;34m+\u001b[0m\u001b[38;2;248;248;242;48;2;39;40;34m \u001b[0m\u001b[38;2;248;248;242;48;2;39;40;34mfibs\u001b[0m\u001b[38;2;255;70;137;48;2;39;40;34m[\u001b[0m\u001b[38;2;248;248;242;48;2;39;40;34mi-2\u001b[0m\u001b[38;2;255;70;137;48;2;39;40;34m]\u001b[0m\u001b[48;2;39;40;34m                                                                        \u001b[0m\u001b[48;2;39;39;34m \u001b[0m\u001b[48;2;39;39;34m \u001b[0m\n\u001b[48;2;39;39;34m \u001b[0m\u001b[48;2;39;39;34m \u001b[0m\u001b[38;2;248;248;242;48;2;39;40;34m    \u001b[0m\u001b[38;2;255;70;137;48;2;39;40;34m}\u001b[0m\u001b[48;2;39;40;34m                                                                                                          \u001b[0m\u001b[48;2;39;39;34m \u001b[0m\u001b[48;2;39;39;34m \u001b[0m\n\u001b[48;2;39;39;34m \u001b[0m\u001b[48;2;39;39;34m \u001b[0m\u001b[38;2;248;248;242;48;2;39;40;34m    \u001b[0m\u001b[38;2;102;217;239;48;2;39;40;34mreturn\u001b[0m\u001b[38;2;248;248;242;48;2;39;40;34m \u001b[0m\u001b[38;2;248;248;242;48;2;39;40;34mfibs\u001b[0m\u001b[48;2;39;40;34m                                                                                                \u001b[0m\u001b[48;2;39;39;34m \u001b[0m\u001b[48;2;39;39;34m \u001b[0m\n\u001b[48;2;39;39;34m \u001b[0m\u001b[48;2;39;39;34m \u001b[0m\u001b[38;2;255;70;137;48;2;39;40;34m}\u001b[0m\u001b[48;2;39;40;34m                                                                                                              \u001b[0m\u001b[48;2;39;39;34m \u001b[0m\u001b[48;2;39;39;34m \u001b[0m\n\u001b[48;2;39;39;34m \u001b[0m\u001b[48;2;39;39;34m \u001b[0m\u001b[48;2;39;40;34m                                                                                                               \u001b[0m\u001b[48;2;39;39;34m \u001b[0m\u001b[48;2;39;39;34m \u001b[0m\n\u001b[48;2;39;39;34m \u001b[0m\u001b[48;2;39;39;34m \u001b[0m\u001b[38;2;248;248;242;48;2;39;40;34mfunc\u001b[0m\u001b[38;2;248;248;242;48;2;39;40;34m \u001b[0m\u001b[38;2;248;248;242;48;2;39;40;34mmain\u001b[0m\u001b[38;2;255;70;137;48;2;39;40;34m(\u001b[0m\u001b[38;2;255;70;137;48;2;39;40;34m)\u001b[0m\u001b[38;2;248;248;242;48;2;39;40;34m \u001b[0m\u001b[38;2;255;70;137;48;2;39;40;34m{\u001b[0m\u001b[48;2;39;40;34m                                                                                                  \u001b[0m\u001b[48;2;39;39;34m \u001b[0m\u001b[48;2;39;39;34m \u001b[0m\n\u001b[48;2;39;39;34m \u001b[0m\u001b[48;2;39;39;34m \u001b[0m\u001b[38;2;248;248;242;48;2;39;40;34m    \u001b[0m\u001b[38;2;248;248;242;48;2;39;40;34mfmt.Println\u001b[0m\u001b[38;2;255;70;137;48;2;39;40;34m(\u001b[0m\u001b[38;2;248;248;242;48;2;39;40;34mfibonacci\u001b[0m\u001b[38;2;255;70;137;48;2;39;40;34m(\u001b[0m\u001b[38;2;174;129;255;48;2;39;40;34m20\u001b[0m\u001b[38;2;255;70;137;48;2;39;40;34m)\u001b[0m\u001b[38;2;255;70;137;48;2;39;40;34m)\u001b[0m\u001b[48;2;39;40;34m                                                                                 \u001b[0m\u001b[48;2;39;39;34m \u001b[0m\u001b[48;2;39;39;34m \u001b[0m\n\u001b[48;2;39;39;34m \u001b[0m\u001b[48;2;39;39;34m \u001b[0m\u001b[38;2;255;70;137;48;2;39;40;34m}\u001b[0m\u001b[38;2;237;0;126;48;2;30;0;16m'\u001b[0m\u001b[38;2;248;248;242;48;2;39;40;34m \u001b[0m\u001b[38;2;248;248;242;48;2;39;40;34m>\u001b[0m\u001b[38;2;248;248;242;48;2;39;40;34m \u001b[0m\u001b[38;2;248;248;242;48;2;39;40;34mfib.go\u001b[0m\u001b[48;2;39;40;34m                                                                                                    \u001b[0m\u001b[48;2;39;39;34m \u001b[0m\u001b[48;2;39;39;34m \u001b[0m\n\u001b[48;2;39;39;34m                                                                                                                   \u001b[0m\n\n",
                  "text/html": "<pre style=\"white-space:pre;overflow-x:auto;line-height:normal;font-family:Menlo,'DejaVu Sans Mono',consolas,'Courier New',monospace\"><span style=\"background-color: #272722\">                                                                                                                   </span>\n<span style=\"background-color: #272722\">  </span><span style=\"color: #f8f8f2; text-decoration-color: #f8f8f2; background-color: #272822\">echo </span><span style=\"color: #ed007e; text-decoration-color: #ed007e; background-color: #1e0010\">'</span><span style=\"color: #f8f8f2; text-decoration-color: #f8f8f2; background-color: #272822\">package main</span><span style=\"background-color: #272822\">                                                                                             </span><span style=\"background-color: #272722\">  </span>\n<span style=\"background-color: #272722\">  </span><span style=\"background-color: #272822\">                                                                                                               </span><span style=\"background-color: #272722\">  </span>\n<span style=\"background-color: #272722\">  </span><span style=\"color: #f8f8f2; text-decoration-color: #f8f8f2; background-color: #272822\">import </span><span style=\"color: #e6db74; text-decoration-color: #e6db74; background-color: #272822\">\"fmt\"</span><span style=\"background-color: #272822\">                                                                                                   </span><span style=\"background-color: #272722\">  </span>\n<span style=\"background-color: #272722\">  </span><span style=\"background-color: #272822\">                                                                                                               </span><span style=\"background-color: #272722\">  </span>\n<span style=\"background-color: #272722\">  </span><span style=\"color: #f8f8f2; text-decoration-color: #f8f8f2; background-color: #272822\">func fibonacci</span><span style=\"color: #ff4689; text-decoration-color: #ff4689; background-color: #272822\">(</span><span style=\"color: #f8f8f2; text-decoration-color: #f8f8f2; background-color: #272822\">n int</span><span style=\"color: #ff4689; text-decoration-color: #ff4689; background-color: #272822\">)</span><span style=\"color: #f8f8f2; text-decoration-color: #f8f8f2; background-color: #272822\"> </span><span style=\"color: #ff4689; text-decoration-color: #ff4689; background-color: #272822\">[]</span><span style=\"color: #f8f8f2; text-decoration-color: #f8f8f2; background-color: #272822\">int </span><span style=\"color: #ff4689; text-decoration-color: #ff4689; background-color: #272822\">{</span><span style=\"background-color: #272822\">                                                                                  </span><span style=\"background-color: #272722\">  </span>\n<span style=\"background-color: #272722\">  </span><span style=\"color: #f8f8f2; text-decoration-color: #f8f8f2; background-color: #272822\">    fibs :</span><span style=\"color: #ff4689; text-decoration-color: #ff4689; background-color: #272822\">=</span><span style=\"color: #f8f8f2; text-decoration-color: #f8f8f2; background-color: #272822\"> make</span><span style=\"color: #ff4689; text-decoration-color: #ff4689; background-color: #272822\">([]</span><span style=\"color: #f8f8f2; text-decoration-color: #f8f8f2; background-color: #272822\">int, n</span><span style=\"color: #ff4689; text-decoration-color: #ff4689; background-color: #272822\">)</span><span style=\"background-color: #272822\">                                                                                     </span><span style=\"background-color: #272722\">  </span>\n<span style=\"background-color: #272722\">  </span><span style=\"color: #f8f8f2; text-decoration-color: #f8f8f2; background-color: #272822\">    fibs</span><span style=\"color: #ff4689; text-decoration-color: #ff4689; background-color: #272822\">[</span><span style=\"color: #ae81ff; text-decoration-color: #ae81ff; background-color: #272822\">0</span><span style=\"color: #ff4689; text-decoration-color: #ff4689; background-color: #272822\">]</span><span style=\"color: #f8f8f2; text-decoration-color: #f8f8f2; background-color: #272822\">, fibs</span><span style=\"color: #ff4689; text-decoration-color: #ff4689; background-color: #272822\">[</span><span style=\"color: #ae81ff; text-decoration-color: #ae81ff; background-color: #272822\">1</span><span style=\"color: #ff4689; text-decoration-color: #ff4689; background-color: #272822\">]</span><span style=\"color: #f8f8f2; text-decoration-color: #f8f8f2; background-color: #272822\"> </span><span style=\"color: #ff4689; text-decoration-color: #ff4689; background-color: #272822\">=</span><span style=\"color: #f8f8f2; text-decoration-color: #f8f8f2; background-color: #272822\"> </span><span style=\"color: #ae81ff; text-decoration-color: #ae81ff; background-color: #272822\">0</span><span style=\"color: #f8f8f2; text-decoration-color: #f8f8f2; background-color: #272822\">, </span><span style=\"color: #ae81ff; text-decoration-color: #ae81ff; background-color: #272822\">1</span><span style=\"background-color: #272822\">                                                                                    </span><span style=\"background-color: #272722\">  </span>\n<span style=\"background-color: #272722\">  </span><span style=\"color: #f8f8f2; text-decoration-color: #f8f8f2; background-color: #272822\">    </span><span style=\"color: #66d9ef; text-decoration-color: #66d9ef; background-color: #272822\">for</span><span style=\"color: #f8f8f2; text-decoration-color: #f8f8f2; background-color: #272822\"> i :</span><span style=\"color: #ff4689; text-decoration-color: #ff4689; background-color: #272822\">=</span><span style=\"color: #f8f8f2; text-decoration-color: #f8f8f2; background-color: #272822\"> </span><span style=\"color: #ae81ff; text-decoration-color: #ae81ff; background-color: #272822\">2</span><span style=\"color: #f8f8f2; text-decoration-color: #f8f8f2; background-color: #272822\">; i &lt; n; i++ </span><span style=\"color: #ff4689; text-decoration-color: #ff4689; background-color: #272822\">{</span><span style=\"background-color: #272822\">                                                                                   </span><span style=\"background-color: #272722\">  </span>\n<span style=\"background-color: #272722\">  </span><span style=\"color: #f8f8f2; text-decoration-color: #f8f8f2; background-color: #272822\">        fibs</span><span style=\"color: #ff4689; text-decoration-color: #ff4689; background-color: #272822\">[</span><span style=\"color: #f8f8f2; text-decoration-color: #f8f8f2; background-color: #272822\">i</span><span style=\"color: #ff4689; text-decoration-color: #ff4689; background-color: #272822\">]</span><span style=\"color: #f8f8f2; text-decoration-color: #f8f8f2; background-color: #272822\"> </span><span style=\"color: #ff4689; text-decoration-color: #ff4689; background-color: #272822\">=</span><span style=\"color: #f8f8f2; text-decoration-color: #f8f8f2; background-color: #272822\"> fibs</span><span style=\"color: #ff4689; text-decoration-color: #ff4689; background-color: #272822\">[</span><span style=\"color: #f8f8f2; text-decoration-color: #f8f8f2; background-color: #272822\">i-1</span><span style=\"color: #ff4689; text-decoration-color: #ff4689; background-color: #272822\">]</span><span style=\"color: #f8f8f2; text-decoration-color: #f8f8f2; background-color: #272822\"> + fibs</span><span style=\"color: #ff4689; text-decoration-color: #ff4689; background-color: #272822\">[</span><span style=\"color: #f8f8f2; text-decoration-color: #f8f8f2; background-color: #272822\">i-2</span><span style=\"color: #ff4689; text-decoration-color: #ff4689; background-color: #272822\">]</span><span style=\"background-color: #272822\">                                                                        </span><span style=\"background-color: #272722\">  </span>\n<span style=\"background-color: #272722\">  </span><span style=\"color: #f8f8f2; text-decoration-color: #f8f8f2; background-color: #272822\">    </span><span style=\"color: #ff4689; text-decoration-color: #ff4689; background-color: #272822\">}</span><span style=\"background-color: #272822\">                                                                                                          </span><span style=\"background-color: #272722\">  </span>\n<span style=\"background-color: #272722\">  </span><span style=\"color: #f8f8f2; text-decoration-color: #f8f8f2; background-color: #272822\">    </span><span style=\"color: #66d9ef; text-decoration-color: #66d9ef; background-color: #272822\">return</span><span style=\"color: #f8f8f2; text-decoration-color: #f8f8f2; background-color: #272822\"> fibs</span><span style=\"background-color: #272822\">                                                                                                </span><span style=\"background-color: #272722\">  </span>\n<span style=\"background-color: #272722\">  </span><span style=\"color: #ff4689; text-decoration-color: #ff4689; background-color: #272822\">}</span><span style=\"background-color: #272822\">                                                                                                              </span><span style=\"background-color: #272722\">  </span>\n<span style=\"background-color: #272722\">  </span><span style=\"background-color: #272822\">                                                                                                               </span><span style=\"background-color: #272722\">  </span>\n<span style=\"background-color: #272722\">  </span><span style=\"color: #f8f8f2; text-decoration-color: #f8f8f2; background-color: #272822\">func main</span><span style=\"color: #ff4689; text-decoration-color: #ff4689; background-color: #272822\">()</span><span style=\"color: #f8f8f2; text-decoration-color: #f8f8f2; background-color: #272822\"> </span><span style=\"color: #ff4689; text-decoration-color: #ff4689; background-color: #272822\">{</span><span style=\"background-color: #272822\">                                                                                                  </span><span style=\"background-color: #272722\">  </span>\n<span style=\"background-color: #272722\">  </span><span style=\"color: #f8f8f2; text-decoration-color: #f8f8f2; background-color: #272822\">    fmt.Println</span><span style=\"color: #ff4689; text-decoration-color: #ff4689; background-color: #272822\">(</span><span style=\"color: #f8f8f2; text-decoration-color: #f8f8f2; background-color: #272822\">fibonacci</span><span style=\"color: #ff4689; text-decoration-color: #ff4689; background-color: #272822\">(</span><span style=\"color: #ae81ff; text-decoration-color: #ae81ff; background-color: #272822\">20</span><span style=\"color: #ff4689; text-decoration-color: #ff4689; background-color: #272822\">))</span><span style=\"background-color: #272822\">                                                                                 </span><span style=\"background-color: #272722\">  </span>\n<span style=\"background-color: #272722\">  </span><span style=\"color: #ff4689; text-decoration-color: #ff4689; background-color: #272822\">}</span><span style=\"color: #ed007e; text-decoration-color: #ed007e; background-color: #1e0010\">'</span><span style=\"color: #f8f8f2; text-decoration-color: #f8f8f2; background-color: #272822\"> &gt; fib.go</span><span style=\"background-color: #272822\">                                                                                                    </span><span style=\"background-color: #272722\">  </span>\n<span style=\"background-color: #272722\">                                                                                                                   </span>\n\n</pre>\n"
                },
                "metadata": {}
              }
            ]
          }
        },
        "f9442b170aca4c24b48b45b55a0d7310": {
          "model_module": "@jupyter-widgets/base",
          "model_name": "LayoutModel",
          "model_module_version": "1.2.0",
          "state": {
            "_model_module": "@jupyter-widgets/base",
            "_model_module_version": "1.2.0",
            "_model_name": "LayoutModel",
            "_view_count": null,
            "_view_module": "@jupyter-widgets/base",
            "_view_module_version": "1.2.0",
            "_view_name": "LayoutView",
            "align_content": null,
            "align_items": null,
            "align_self": null,
            "border": null,
            "bottom": null,
            "display": null,
            "flex": null,
            "flex_flow": null,
            "grid_area": null,
            "grid_auto_columns": null,
            "grid_auto_flow": null,
            "grid_auto_rows": null,
            "grid_column": null,
            "grid_gap": null,
            "grid_row": null,
            "grid_template_areas": null,
            "grid_template_columns": null,
            "grid_template_rows": null,
            "height": null,
            "justify_content": null,
            "justify_items": null,
            "left": null,
            "margin": null,
            "max_height": null,
            "max_width": null,
            "min_height": null,
            "min_width": null,
            "object_fit": null,
            "object_position": null,
            "order": null,
            "overflow": null,
            "overflow_x": null,
            "overflow_y": null,
            "padding": null,
            "right": null,
            "top": null,
            "visibility": null,
            "width": null
          }
        },
        "4051c2774608472e8eb2452d1d4a328c": {
          "model_module": "@jupyter-widgets/output",
          "model_name": "OutputModel",
          "model_module_version": "1.0.0",
          "state": {
            "_dom_classes": [],
            "_model_module": "@jupyter-widgets/output",
            "_model_module_version": "1.0.0",
            "_model_name": "OutputModel",
            "_view_count": null,
            "_view_module": "@jupyter-widgets/output",
            "_view_module_version": "1.0.0",
            "_view_name": "OutputView",
            "layout": "IPY_MODEL_a213340c0a144eefa1b54bcdbc242d50",
            "msg_id": "",
            "outputs": [
              {
                "output_type": "display_data",
                "data": {
                  "text/plain": "\u001b[48;2;39;39;34m                                                                                                                   \u001b[0m\n\u001b[48;2;39;39;34m \u001b[0m\u001b[48;2;39;39;34m \u001b[0m\u001b[38;2;248;248;242;48;2;39;40;34mecho\u001b[0m\u001b[38;2;248;248;242;48;2;39;40;34m \u001b[0m\u001b[38;2;237;0;126;48;2;30;0;16m'\u001b[0m\u001b[38;2;248;248;242;48;2;39;40;34mpackage\u001b[0m\u001b[38;2;248;248;242;48;2;39;40;34m \u001b[0m\u001b[38;2;248;248;242;48;2;39;40;34mmain\u001b[0m\u001b[48;2;39;40;34m                                                                                             \u001b[0m\u001b[48;2;39;39;34m \u001b[0m\u001b[48;2;39;39;34m \u001b[0m\n\u001b[48;2;39;39;34m \u001b[0m\u001b[48;2;39;39;34m \u001b[0m\u001b[48;2;39;40;34m                                                                                                               \u001b[0m\u001b[48;2;39;39;34m \u001b[0m\u001b[48;2;39;39;34m \u001b[0m\n\u001b[48;2;39;39;34m \u001b[0m\u001b[48;2;39;39;34m \u001b[0m\u001b[38;2;248;248;242;48;2;39;40;34mimport\u001b[0m\u001b[38;2;248;248;242;48;2;39;40;34m \u001b[0m\u001b[38;2;230;219;116;48;2;39;40;34m\"fmt\"\u001b[0m\u001b[48;2;39;40;34m                                                                                                   \u001b[0m\u001b[48;2;39;39;34m \u001b[0m\u001b[48;2;39;39;34m \u001b[0m\n\u001b[48;2;39;39;34m \u001b[0m\u001b[48;2;39;39;34m \u001b[0m\u001b[48;2;39;40;34m                                                                                                               \u001b[0m\u001b[48;2;39;39;34m \u001b[0m\u001b[48;2;39;39;34m \u001b[0m\n\u001b[48;2;39;39;34m \u001b[0m\u001b[48;2;39;39;34m \u001b[0m\u001b[38;2;248;248;242;48;2;39;40;34mfunc\u001b[0m\u001b[38;2;248;248;242;48;2;39;40;34m \u001b[0m\u001b[38;2;248;248;242;48;2;39;40;34mfibonacci\u001b[0m\u001b[38;2;255;70;137;48;2;39;40;34m(\u001b[0m\u001b[38;2;248;248;242;48;2;39;40;34mn\u001b[0m\u001b[38;2;248;248;242;48;2;39;40;34m \u001b[0m\u001b[38;2;248;248;242;48;2;39;40;34mint\u001b[0m\u001b[38;2;255;70;137;48;2;39;40;34m)\u001b[0m\u001b[38;2;248;248;242;48;2;39;40;34m \u001b[0m\u001b[38;2;255;70;137;48;2;39;40;34m[\u001b[0m\u001b[38;2;255;70;137;48;2;39;40;34m]\u001b[0m\u001b[38;2;248;248;242;48;2;39;40;34mint\u001b[0m\u001b[38;2;248;248;242;48;2;39;40;34m \u001b[0m\u001b[38;2;255;70;137;48;2;39;40;34m{\u001b[0m\u001b[48;2;39;40;34m                                                                                  \u001b[0m\u001b[48;2;39;39;34m \u001b[0m\u001b[48;2;39;39;34m \u001b[0m\n\u001b[48;2;39;39;34m \u001b[0m\u001b[48;2;39;39;34m \u001b[0m\u001b[38;2;248;248;242;48;2;39;40;34m    \u001b[0m\u001b[38;2;248;248;242;48;2;39;40;34mfibs\u001b[0m\u001b[38;2;248;248;242;48;2;39;40;34m \u001b[0m\u001b[38;2;248;248;242;48;2;39;40;34m:\u001b[0m\u001b[38;2;255;70;137;48;2;39;40;34m=\u001b[0m\u001b[38;2;248;248;242;48;2;39;40;34m \u001b[0m\u001b[38;2;248;248;242;48;2;39;40;34mmake\u001b[0m\u001b[38;2;255;70;137;48;2;39;40;34m(\u001b[0m\u001b[38;2;255;70;137;48;2;39;40;34m[\u001b[0m\u001b[38;2;255;70;137;48;2;39;40;34m]\u001b[0m\u001b[38;2;248;248;242;48;2;39;40;34mint,\u001b[0m\u001b[38;2;248;248;242;48;2;39;40;34m \u001b[0m\u001b[38;2;248;248;242;48;2;39;40;34mn\u001b[0m\u001b[38;2;255;70;137;48;2;39;40;34m)\u001b[0m\u001b[48;2;39;40;34m                                                                                     \u001b[0m\u001b[48;2;39;39;34m \u001b[0m\u001b[48;2;39;39;34m \u001b[0m\n\u001b[48;2;39;39;34m \u001b[0m\u001b[48;2;39;39;34m \u001b[0m\u001b[38;2;248;248;242;48;2;39;40;34m    \u001b[0m\u001b[38;2;248;248;242;48;2;39;40;34mfibs\u001b[0m\u001b[38;2;255;70;137;48;2;39;40;34m[\u001b[0m\u001b[38;2;174;129;255;48;2;39;40;34m0\u001b[0m\u001b[38;2;255;70;137;48;2;39;40;34m]\u001b[0m\u001b[38;2;248;248;242;48;2;39;40;34m,\u001b[0m\u001b[38;2;248;248;242;48;2;39;40;34m \u001b[0m\u001b[38;2;248;248;242;48;2;39;40;34mfibs\u001b[0m\u001b[38;2;255;70;137;48;2;39;40;34m[\u001b[0m\u001b[38;2;174;129;255;48;2;39;40;34m1\u001b[0m\u001b[38;2;255;70;137;48;2;39;40;34m]\u001b[0m\u001b[38;2;248;248;242;48;2;39;40;34m \u001b[0m\u001b[38;2;255;70;137;48;2;39;40;34m=\u001b[0m\u001b[38;2;248;248;242;48;2;39;40;34m \u001b[0m\u001b[38;2;174;129;255;48;2;39;40;34m0\u001b[0m\u001b[38;2;248;248;242;48;2;39;40;34m,\u001b[0m\u001b[38;2;248;248;242;48;2;39;40;34m \u001b[0m\u001b[38;2;174;129;255;48;2;39;40;34m1\u001b[0m\u001b[48;2;39;40;34m                                                                                    \u001b[0m\u001b[48;2;39;39;34m \u001b[0m\u001b[48;2;39;39;34m \u001b[0m\n\u001b[48;2;39;39;34m \u001b[0m\u001b[48;2;39;39;34m \u001b[0m\u001b[38;2;248;248;242;48;2;39;40;34m    \u001b[0m\u001b[38;2;102;217;239;48;2;39;40;34mfor\u001b[0m\u001b[38;2;248;248;242;48;2;39;40;34m \u001b[0m\u001b[38;2;248;248;242;48;2;39;40;34mi\u001b[0m\u001b[38;2;248;248;242;48;2;39;40;34m \u001b[0m\u001b[38;2;248;248;242;48;2;39;40;34m:\u001b[0m\u001b[38;2;255;70;137;48;2;39;40;34m=\u001b[0m\u001b[38;2;248;248;242;48;2;39;40;34m \u001b[0m\u001b[38;2;174;129;255;48;2;39;40;34m2\u001b[0m\u001b[38;2;248;248;242;48;2;39;40;34m;\u001b[0m\u001b[38;2;248;248;242;48;2;39;40;34m \u001b[0m\u001b[38;2;248;248;242;48;2;39;40;34mi\u001b[0m\u001b[38;2;248;248;242;48;2;39;40;34m \u001b[0m\u001b[38;2;248;248;242;48;2;39;40;34m<\u001b[0m\u001b[38;2;248;248;242;48;2;39;40;34m \u001b[0m\u001b[38;2;248;248;242;48;2;39;40;34mn\u001b[0m\u001b[38;2;248;248;242;48;2;39;40;34m;\u001b[0m\u001b[38;2;248;248;242;48;2;39;40;34m \u001b[0m\u001b[38;2;248;248;242;48;2;39;40;34mi++\u001b[0m\u001b[38;2;248;248;242;48;2;39;40;34m \u001b[0m\u001b[38;2;255;70;137;48;2;39;40;34m{\u001b[0m\u001b[48;2;39;40;34m                                                                                   \u001b[0m\u001b[48;2;39;39;34m \u001b[0m\u001b[48;2;39;39;34m \u001b[0m\n\u001b[48;2;39;39;34m \u001b[0m\u001b[48;2;39;39;34m \u001b[0m\u001b[38;2;248;248;242;48;2;39;40;34m        \u001b[0m\u001b[38;2;248;248;242;48;2;39;40;34mfibs\u001b[0m\u001b[38;2;255;70;137;48;2;39;40;34m[\u001b[0m\u001b[38;2;248;248;242;48;2;39;40;34mi\u001b[0m\u001b[38;2;255;70;137;48;2;39;40;34m]\u001b[0m\u001b[38;2;248;248;242;48;2;39;40;34m \u001b[0m\u001b[38;2;255;70;137;48;2;39;40;34m=\u001b[0m\u001b[38;2;248;248;242;48;2;39;40;34m \u001b[0m\u001b[38;2;248;248;242;48;2;39;40;34mfibs\u001b[0m\u001b[38;2;255;70;137;48;2;39;40;34m[\u001b[0m\u001b[38;2;248;248;242;48;2;39;40;34mi-1\u001b[0m\u001b[38;2;255;70;137;48;2;39;40;34m]\u001b[0m\u001b[38;2;248;248;242;48;2;39;40;34m \u001b[0m\u001b[38;2;248;248;242;48;2;39;40;34m+\u001b[0m\u001b[38;2;248;248;242;48;2;39;40;34m \u001b[0m\u001b[38;2;248;248;242;48;2;39;40;34mfibs\u001b[0m\u001b[38;2;255;70;137;48;2;39;40;34m[\u001b[0m\u001b[38;2;248;248;242;48;2;39;40;34mi-2\u001b[0m\u001b[38;2;255;70;137;48;2;39;40;34m]\u001b[0m\u001b[48;2;39;40;34m                                                                        \u001b[0m\u001b[48;2;39;39;34m \u001b[0m\u001b[48;2;39;39;34m \u001b[0m\n\u001b[48;2;39;39;34m \u001b[0m\u001b[48;2;39;39;34m \u001b[0m\u001b[38;2;248;248;242;48;2;39;40;34m    \u001b[0m\u001b[38;2;255;70;137;48;2;39;40;34m}\u001b[0m\u001b[48;2;39;40;34m                                                                                                          \u001b[0m\u001b[48;2;39;39;34m \u001b[0m\u001b[48;2;39;39;34m \u001b[0m\n\u001b[48;2;39;39;34m \u001b[0m\u001b[48;2;39;39;34m \u001b[0m\u001b[38;2;248;248;242;48;2;39;40;34m    \u001b[0m\u001b[38;2;102;217;239;48;2;39;40;34mreturn\u001b[0m\u001b[38;2;248;248;242;48;2;39;40;34m \u001b[0m\u001b[38;2;248;248;242;48;2;39;40;34mfibs\u001b[0m\u001b[48;2;39;40;34m                                                                                                \u001b[0m\u001b[48;2;39;39;34m \u001b[0m\u001b[48;2;39;39;34m \u001b[0m\n\u001b[48;2;39;39;34m \u001b[0m\u001b[48;2;39;39;34m \u001b[0m\u001b[38;2;255;70;137;48;2;39;40;34m}\u001b[0m\u001b[48;2;39;40;34m                                                                                                              \u001b[0m\u001b[48;2;39;39;34m \u001b[0m\u001b[48;2;39;39;34m \u001b[0m\n\u001b[48;2;39;39;34m \u001b[0m\u001b[48;2;39;39;34m \u001b[0m\u001b[48;2;39;40;34m                                                                                                               \u001b[0m\u001b[48;2;39;39;34m \u001b[0m\u001b[48;2;39;39;34m \u001b[0m\n\u001b[48;2;39;39;34m \u001b[0m\u001b[48;2;39;39;34m \u001b[0m\u001b[38;2;248;248;242;48;2;39;40;34mfunc\u001b[0m\u001b[38;2;248;248;242;48;2;39;40;34m \u001b[0m\u001b[38;2;248;248;242;48;2;39;40;34mmain\u001b[0m\u001b[38;2;255;70;137;48;2;39;40;34m(\u001b[0m\u001b[38;2;255;70;137;48;2;39;40;34m)\u001b[0m\u001b[38;2;248;248;242;48;2;39;40;34m \u001b[0m\u001b[38;2;255;70;137;48;2;39;40;34m{\u001b[0m\u001b[48;2;39;40;34m                                                                                                  \u001b[0m\u001b[48;2;39;39;34m \u001b[0m\u001b[48;2;39;39;34m \u001b[0m\n\u001b[48;2;39;39;34m \u001b[0m\u001b[48;2;39;39;34m \u001b[0m\u001b[38;2;248;248;242;48;2;39;40;34m    \u001b[0m\u001b[38;2;248;248;242;48;2;39;40;34mfmt.Println\u001b[0m\u001b[38;2;255;70;137;48;2;39;40;34m(\u001b[0m\u001b[38;2;248;248;242;48;2;39;40;34mfibonacci\u001b[0m\u001b[38;2;255;70;137;48;2;39;40;34m(\u001b[0m\u001b[38;2;174;129;255;48;2;39;40;34m20\u001b[0m\u001b[38;2;255;70;137;48;2;39;40;34m)\u001b[0m\u001b[38;2;255;70;137;48;2;39;40;34m)\u001b[0m\u001b[48;2;39;40;34m                                                                                 \u001b[0m\u001b[48;2;39;39;34m \u001b[0m\u001b[48;2;39;39;34m \u001b[0m\n\u001b[48;2;39;39;34m \u001b[0m\u001b[48;2;39;39;34m \u001b[0m\u001b[38;2;255;70;137;48;2;39;40;34m}\u001b[0m\u001b[38;2;237;0;126;48;2;30;0;16m'\u001b[0m\u001b[38;2;248;248;242;48;2;39;40;34m \u001b[0m\u001b[38;2;248;248;242;48;2;39;40;34m>\u001b[0m\u001b[38;2;248;248;242;48;2;39;40;34m \u001b[0m\u001b[38;2;248;248;242;48;2;39;40;34mfib.go\u001b[0m\u001b[48;2;39;40;34m                                                                                                    \u001b[0m\u001b[48;2;39;39;34m \u001b[0m\u001b[48;2;39;39;34m \u001b[0m\n\u001b[48;2;39;39;34m                                                                                                                   \u001b[0m\n\n",
                  "text/html": "<pre style=\"white-space:pre;overflow-x:auto;line-height:normal;font-family:Menlo,'DejaVu Sans Mono',consolas,'Courier New',monospace\"><span style=\"background-color: #272722\">                                                                                                                   </span>\n<span style=\"background-color: #272722\">  </span><span style=\"color: #f8f8f2; text-decoration-color: #f8f8f2; background-color: #272822\">echo </span><span style=\"color: #ed007e; text-decoration-color: #ed007e; background-color: #1e0010\">'</span><span style=\"color: #f8f8f2; text-decoration-color: #f8f8f2; background-color: #272822\">package main</span><span style=\"background-color: #272822\">                                                                                             </span><span style=\"background-color: #272722\">  </span>\n<span style=\"background-color: #272722\">  </span><span style=\"background-color: #272822\">                                                                                                               </span><span style=\"background-color: #272722\">  </span>\n<span style=\"background-color: #272722\">  </span><span style=\"color: #f8f8f2; text-decoration-color: #f8f8f2; background-color: #272822\">import </span><span style=\"color: #e6db74; text-decoration-color: #e6db74; background-color: #272822\">\"fmt\"</span><span style=\"background-color: #272822\">                                                                                                   </span><span style=\"background-color: #272722\">  </span>\n<span style=\"background-color: #272722\">  </span><span style=\"background-color: #272822\">                                                                                                               </span><span style=\"background-color: #272722\">  </span>\n<span style=\"background-color: #272722\">  </span><span style=\"color: #f8f8f2; text-decoration-color: #f8f8f2; background-color: #272822\">func fibonacci</span><span style=\"color: #ff4689; text-decoration-color: #ff4689; background-color: #272822\">(</span><span style=\"color: #f8f8f2; text-decoration-color: #f8f8f2; background-color: #272822\">n int</span><span style=\"color: #ff4689; text-decoration-color: #ff4689; background-color: #272822\">)</span><span style=\"color: #f8f8f2; text-decoration-color: #f8f8f2; background-color: #272822\"> </span><span style=\"color: #ff4689; text-decoration-color: #ff4689; background-color: #272822\">[]</span><span style=\"color: #f8f8f2; text-decoration-color: #f8f8f2; background-color: #272822\">int </span><span style=\"color: #ff4689; text-decoration-color: #ff4689; background-color: #272822\">{</span><span style=\"background-color: #272822\">                                                                                  </span><span style=\"background-color: #272722\">  </span>\n<span style=\"background-color: #272722\">  </span><span style=\"color: #f8f8f2; text-decoration-color: #f8f8f2; background-color: #272822\">    fibs :</span><span style=\"color: #ff4689; text-decoration-color: #ff4689; background-color: #272822\">=</span><span style=\"color: #f8f8f2; text-decoration-color: #f8f8f2; background-color: #272822\"> make</span><span style=\"color: #ff4689; text-decoration-color: #ff4689; background-color: #272822\">([]</span><span style=\"color: #f8f8f2; text-decoration-color: #f8f8f2; background-color: #272822\">int, n</span><span style=\"color: #ff4689; text-decoration-color: #ff4689; background-color: #272822\">)</span><span style=\"background-color: #272822\">                                                                                     </span><span style=\"background-color: #272722\">  </span>\n<span style=\"background-color: #272722\">  </span><span style=\"color: #f8f8f2; text-decoration-color: #f8f8f2; background-color: #272822\">    fibs</span><span style=\"color: #ff4689; text-decoration-color: #ff4689; background-color: #272822\">[</span><span style=\"color: #ae81ff; text-decoration-color: #ae81ff; background-color: #272822\">0</span><span style=\"color: #ff4689; text-decoration-color: #ff4689; background-color: #272822\">]</span><span style=\"color: #f8f8f2; text-decoration-color: #f8f8f2; background-color: #272822\">, fibs</span><span style=\"color: #ff4689; text-decoration-color: #ff4689; background-color: #272822\">[</span><span style=\"color: #ae81ff; text-decoration-color: #ae81ff; background-color: #272822\">1</span><span style=\"color: #ff4689; text-decoration-color: #ff4689; background-color: #272822\">]</span><span style=\"color: #f8f8f2; text-decoration-color: #f8f8f2; background-color: #272822\"> </span><span style=\"color: #ff4689; text-decoration-color: #ff4689; background-color: #272822\">=</span><span style=\"color: #f8f8f2; text-decoration-color: #f8f8f2; background-color: #272822\"> </span><span style=\"color: #ae81ff; text-decoration-color: #ae81ff; background-color: #272822\">0</span><span style=\"color: #f8f8f2; text-decoration-color: #f8f8f2; background-color: #272822\">, </span><span style=\"color: #ae81ff; text-decoration-color: #ae81ff; background-color: #272822\">1</span><span style=\"background-color: #272822\">                                                                                    </span><span style=\"background-color: #272722\">  </span>\n<span style=\"background-color: #272722\">  </span><span style=\"color: #f8f8f2; text-decoration-color: #f8f8f2; background-color: #272822\">    </span><span style=\"color: #66d9ef; text-decoration-color: #66d9ef; background-color: #272822\">for</span><span style=\"color: #f8f8f2; text-decoration-color: #f8f8f2; background-color: #272822\"> i :</span><span style=\"color: #ff4689; text-decoration-color: #ff4689; background-color: #272822\">=</span><span style=\"color: #f8f8f2; text-decoration-color: #f8f8f2; background-color: #272822\"> </span><span style=\"color: #ae81ff; text-decoration-color: #ae81ff; background-color: #272822\">2</span><span style=\"color: #f8f8f2; text-decoration-color: #f8f8f2; background-color: #272822\">; i &lt; n; i++ </span><span style=\"color: #ff4689; text-decoration-color: #ff4689; background-color: #272822\">{</span><span style=\"background-color: #272822\">                                                                                   </span><span style=\"background-color: #272722\">  </span>\n<span style=\"background-color: #272722\">  </span><span style=\"color: #f8f8f2; text-decoration-color: #f8f8f2; background-color: #272822\">        fibs</span><span style=\"color: #ff4689; text-decoration-color: #ff4689; background-color: #272822\">[</span><span style=\"color: #f8f8f2; text-decoration-color: #f8f8f2; background-color: #272822\">i</span><span style=\"color: #ff4689; text-decoration-color: #ff4689; background-color: #272822\">]</span><span style=\"color: #f8f8f2; text-decoration-color: #f8f8f2; background-color: #272822\"> </span><span style=\"color: #ff4689; text-decoration-color: #ff4689; background-color: #272822\">=</span><span style=\"color: #f8f8f2; text-decoration-color: #f8f8f2; background-color: #272822\"> fibs</span><span style=\"color: #ff4689; text-decoration-color: #ff4689; background-color: #272822\">[</span><span style=\"color: #f8f8f2; text-decoration-color: #f8f8f2; background-color: #272822\">i-1</span><span style=\"color: #ff4689; text-decoration-color: #ff4689; background-color: #272822\">]</span><span style=\"color: #f8f8f2; text-decoration-color: #f8f8f2; background-color: #272822\"> + fibs</span><span style=\"color: #ff4689; text-decoration-color: #ff4689; background-color: #272822\">[</span><span style=\"color: #f8f8f2; text-decoration-color: #f8f8f2; background-color: #272822\">i-2</span><span style=\"color: #ff4689; text-decoration-color: #ff4689; background-color: #272822\">]</span><span style=\"background-color: #272822\">                                                                        </span><span style=\"background-color: #272722\">  </span>\n<span style=\"background-color: #272722\">  </span><span style=\"color: #f8f8f2; text-decoration-color: #f8f8f2; background-color: #272822\">    </span><span style=\"color: #ff4689; text-decoration-color: #ff4689; background-color: #272822\">}</span><span style=\"background-color: #272822\">                                                                                                          </span><span style=\"background-color: #272722\">  </span>\n<span style=\"background-color: #272722\">  </span><span style=\"color: #f8f8f2; text-decoration-color: #f8f8f2; background-color: #272822\">    </span><span style=\"color: #66d9ef; text-decoration-color: #66d9ef; background-color: #272822\">return</span><span style=\"color: #f8f8f2; text-decoration-color: #f8f8f2; background-color: #272822\"> fibs</span><span style=\"background-color: #272822\">                                                                                                </span><span style=\"background-color: #272722\">  </span>\n<span style=\"background-color: #272722\">  </span><span style=\"color: #ff4689; text-decoration-color: #ff4689; background-color: #272822\">}</span><span style=\"background-color: #272822\">                                                                                                              </span><span style=\"background-color: #272722\">  </span>\n<span style=\"background-color: #272722\">  </span><span style=\"background-color: #272822\">                                                                                                               </span><span style=\"background-color: #272722\">  </span>\n<span style=\"background-color: #272722\">  </span><span style=\"color: #f8f8f2; text-decoration-color: #f8f8f2; background-color: #272822\">func main</span><span style=\"color: #ff4689; text-decoration-color: #ff4689; background-color: #272822\">()</span><span style=\"color: #f8f8f2; text-decoration-color: #f8f8f2; background-color: #272822\"> </span><span style=\"color: #ff4689; text-decoration-color: #ff4689; background-color: #272822\">{</span><span style=\"background-color: #272822\">                                                                                                  </span><span style=\"background-color: #272722\">  </span>\n<span style=\"background-color: #272722\">  </span><span style=\"color: #f8f8f2; text-decoration-color: #f8f8f2; background-color: #272822\">    fmt.Println</span><span style=\"color: #ff4689; text-decoration-color: #ff4689; background-color: #272822\">(</span><span style=\"color: #f8f8f2; text-decoration-color: #f8f8f2; background-color: #272822\">fibonacci</span><span style=\"color: #ff4689; text-decoration-color: #ff4689; background-color: #272822\">(</span><span style=\"color: #ae81ff; text-decoration-color: #ae81ff; background-color: #272822\">20</span><span style=\"color: #ff4689; text-decoration-color: #ff4689; background-color: #272822\">))</span><span style=\"background-color: #272822\">                                                                                 </span><span style=\"background-color: #272722\">  </span>\n<span style=\"background-color: #272722\">  </span><span style=\"color: #ff4689; text-decoration-color: #ff4689; background-color: #272822\">}</span><span style=\"color: #ed007e; text-decoration-color: #ed007e; background-color: #1e0010\">'</span><span style=\"color: #f8f8f2; text-decoration-color: #f8f8f2; background-color: #272822\"> &gt; fib.go</span><span style=\"background-color: #272822\">                                                                                                    </span><span style=\"background-color: #272722\">  </span>\n<span style=\"background-color: #272722\">                                                                                                                   </span>\n\n</pre>\n"
                },
                "metadata": {}
              }
            ]
          }
        },
        "a213340c0a144eefa1b54bcdbc242d50": {
          "model_module": "@jupyter-widgets/base",
          "model_name": "LayoutModel",
          "model_module_version": "1.2.0",
          "state": {
            "_model_module": "@jupyter-widgets/base",
            "_model_module_version": "1.2.0",
            "_model_name": "LayoutModel",
            "_view_count": null,
            "_view_module": "@jupyter-widgets/base",
            "_view_module_version": "1.2.0",
            "_view_name": "LayoutView",
            "align_content": null,
            "align_items": null,
            "align_self": null,
            "border": null,
            "bottom": null,
            "display": null,
            "flex": null,
            "flex_flow": null,
            "grid_area": null,
            "grid_auto_columns": null,
            "grid_auto_flow": null,
            "grid_auto_rows": null,
            "grid_column": null,
            "grid_gap": null,
            "grid_row": null,
            "grid_template_areas": null,
            "grid_template_columns": null,
            "grid_template_rows": null,
            "height": null,
            "justify_content": null,
            "justify_items": null,
            "left": null,
            "margin": null,
            "max_height": null,
            "max_width": null,
            "min_height": null,
            "min_width": null,
            "object_fit": null,
            "object_position": null,
            "order": null,
            "overflow": null,
            "overflow_x": null,
            "overflow_y": null,
            "padding": null,
            "right": null,
            "top": null,
            "visibility": null,
            "width": null
          }
        },
        "4c39a05b923a46048c8f0a584fe97d74": {
          "model_module": "@jupyter-widgets/output",
          "model_name": "OutputModel",
          "model_module_version": "1.0.0",
          "state": {
            "_dom_classes": [],
            "_model_module": "@jupyter-widgets/output",
            "_model_module_version": "1.0.0",
            "_model_name": "OutputModel",
            "_view_count": null,
            "_view_module": "@jupyter-widgets/output",
            "_view_module_version": "1.0.0",
            "_view_name": "OutputView",
            "layout": "IPY_MODEL_707d97e8459c42b492e6310fbcb53f87",
            "msg_id": "",
            "outputs": [
              {
                "output_type": "display_data",
                "data": {
                  "text/plain": "                                                                                                                   \n  Goのコードが一時的なファイルに保存されました。次に、このファイルを実行してフィボナッチ数列を生成します。         \n                                                                                                                   \n",
                  "text/html": "<pre style=\"white-space:pre;overflow-x:auto;line-height:normal;font-family:Menlo,'DejaVu Sans Mono',consolas,'Courier New',monospace\">                                                                                                                   \n  Goのコードが一時的なファイルに保存されました。次に、このファイルを実行してフィボナッチ数列を生成します。         \n                                                                                                                   \n</pre>\n"
                },
                "metadata": {}
              }
            ]
          }
        },
        "707d97e8459c42b492e6310fbcb53f87": {
          "model_module": "@jupyter-widgets/base",
          "model_name": "LayoutModel",
          "model_module_version": "1.2.0",
          "state": {
            "_model_module": "@jupyter-widgets/base",
            "_model_module_version": "1.2.0",
            "_model_name": "LayoutModel",
            "_view_count": null,
            "_view_module": "@jupyter-widgets/base",
            "_view_module_version": "1.2.0",
            "_view_name": "LayoutView",
            "align_content": null,
            "align_items": null,
            "align_self": null,
            "border": null,
            "bottom": null,
            "display": null,
            "flex": null,
            "flex_flow": null,
            "grid_area": null,
            "grid_auto_columns": null,
            "grid_auto_flow": null,
            "grid_auto_rows": null,
            "grid_column": null,
            "grid_gap": null,
            "grid_row": null,
            "grid_template_areas": null,
            "grid_template_columns": null,
            "grid_template_rows": null,
            "height": null,
            "justify_content": null,
            "justify_items": null,
            "left": null,
            "margin": null,
            "max_height": null,
            "max_width": null,
            "min_height": null,
            "min_width": null,
            "object_fit": null,
            "object_position": null,
            "order": null,
            "overflow": null,
            "overflow_x": null,
            "overflow_y": null,
            "padding": null,
            "right": null,
            "top": null,
            "visibility": null,
            "width": null
          }
        },
        "67e53bcf0733454aac5223b9f44c845f": {
          "model_module": "@jupyter-widgets/output",
          "model_name": "OutputModel",
          "model_module_version": "1.0.0",
          "state": {
            "_dom_classes": [],
            "_model_module": "@jupyter-widgets/output",
            "_model_module_version": "1.0.0",
            "_model_name": "OutputModel",
            "_view_count": null,
            "_view_module": "@jupyter-widgets/output",
            "_view_module_version": "1.0.0",
            "_view_name": "OutputView",
            "layout": "IPY_MODEL_7f2b1eb7df504d5a84f0ba71b06b383f",
            "msg_id": "",
            "outputs": [
              {
                "output_type": "display_data",
                "data": {
                  "text/plain": "\u001b[48;2;39;39;34m                                                                                                                   \u001b[0m\n\u001b[48;2;39;39;34m \u001b[0m\u001b[48;2;39;39;34m \u001b[0m\u001b[38;2;248;248;242;48;2;39;40;34mgo\u001b[0m\u001b[38;2;248;248;242;48;2;39;40;34m \u001b[0m\u001b[38;2;248;248;242;48;2;39;40;34mrun\u001b[0m\u001b[38;2;248;248;242;48;2;39;40;34m \u001b[0m\u001b[38;2;248;248;242;48;2;39;40;34mfib.go\u001b[0m\u001b[48;2;39;40;34m                                                                                                  \u001b[0m\u001b[48;2;39;39;34m \u001b[0m\u001b[48;2;39;39;34m \u001b[0m\n\u001b[48;2;39;39;34m                                                                                                                   \u001b[0m\n\n",
                  "text/html": "<pre style=\"white-space:pre;overflow-x:auto;line-height:normal;font-family:Menlo,'DejaVu Sans Mono',consolas,'Courier New',monospace\"><span style=\"background-color: #272722\">                                                                                                                   </span>\n<span style=\"background-color: #272722\">  </span><span style=\"color: #f8f8f2; text-decoration-color: #f8f8f2; background-color: #272822\">go run fib.go</span><span style=\"background-color: #272822\">                                                                                                  </span><span style=\"background-color: #272722\">  </span>\n<span style=\"background-color: #272722\">                                                                                                                   </span>\n\n</pre>\n"
                },
                "metadata": {}
              }
            ]
          }
        },
        "7f2b1eb7df504d5a84f0ba71b06b383f": {
          "model_module": "@jupyter-widgets/base",
          "model_name": "LayoutModel",
          "model_module_version": "1.2.0",
          "state": {
            "_model_module": "@jupyter-widgets/base",
            "_model_module_version": "1.2.0",
            "_model_name": "LayoutModel",
            "_view_count": null,
            "_view_module": "@jupyter-widgets/base",
            "_view_module_version": "1.2.0",
            "_view_name": "LayoutView",
            "align_content": null,
            "align_items": null,
            "align_self": null,
            "border": null,
            "bottom": null,
            "display": null,
            "flex": null,
            "flex_flow": null,
            "grid_area": null,
            "grid_auto_columns": null,
            "grid_auto_flow": null,
            "grid_auto_rows": null,
            "grid_column": null,
            "grid_gap": null,
            "grid_row": null,
            "grid_template_areas": null,
            "grid_template_columns": null,
            "grid_template_rows": null,
            "height": null,
            "justify_content": null,
            "justify_items": null,
            "left": null,
            "margin": null,
            "max_height": null,
            "max_width": null,
            "min_height": null,
            "min_width": null,
            "object_fit": null,
            "object_position": null,
            "order": null,
            "overflow": null,
            "overflow_x": null,
            "overflow_y": null,
            "padding": null,
            "right": null,
            "top": null,
            "visibility": null,
            "width": null
          }
        },
        "6b984d9951374656bbd426dd9fabc651": {
          "model_module": "@jupyter-widgets/output",
          "model_name": "OutputModel",
          "model_module_version": "1.0.0",
          "state": {
            "_dom_classes": [],
            "_model_module": "@jupyter-widgets/output",
            "_model_module_version": "1.0.0",
            "_model_name": "OutputModel",
            "_view_count": null,
            "_view_module": "@jupyter-widgets/output",
            "_view_module_version": "1.0.0",
            "_view_name": "OutputView",
            "layout": "IPY_MODEL_53ae70f9228e45b39cae50cb0d273fbc",
            "msg_id": "",
            "outputs": [
              {
                "output_type": "display_data",
                "data": {
                  "text/plain": "\u001b[48;2;39;39;34m                                                                                                                   \u001b[0m\n\u001b[48;2;39;39;34m \u001b[0m\u001b[48;2;39;39;34m \u001b[0m\u001b[38;2;248;248;242;48;2;39;40;34mgo\u001b[0m\u001b[38;2;248;248;242;48;2;39;40;34m \u001b[0m\u001b[38;2;248;248;242;48;2;39;40;34mrun\u001b[0m\u001b[38;2;248;248;242;48;2;39;40;34m \u001b[0m\u001b[38;2;248;248;242;48;2;39;40;34mfib.go\u001b[0m\u001b[48;2;39;40;34m                                                                                                  \u001b[0m\u001b[48;2;39;39;34m \u001b[0m\u001b[48;2;39;39;34m \u001b[0m\n\u001b[48;2;39;39;34m                                                                                                                   \u001b[0m\n\u001b[38;2;255;255;255;48;2;59;59;55m                                                                                                                   \u001b[0m\n\u001b[38;2;255;255;255;48;2;59;59;55m \u001b[0m\u001b[38;2;255;255;255;48;2;59;59;55m \u001b[0m\u001b[38;2;255;255;255;48;2;59;59;55m[0 1 1 2 3 5 8 13 21 34 55 89 144 233 377 610 987 1597 2584 4181]\u001b[0m\u001b[38;2;255;255;255;48;2;59;59;55m                                              \u001b[0m\u001b[38;2;255;255;255;48;2;59;59;55m \u001b[0m\u001b[38;2;255;255;255;48;2;59;59;55m \u001b[0m\n\u001b[38;2;255;255;255;48;2;59;59;55m                                                                                                                   \u001b[0m\n",
                  "text/html": "<pre style=\"white-space:pre;overflow-x:auto;line-height:normal;font-family:Menlo,'DejaVu Sans Mono',consolas,'Courier New',monospace\"><span style=\"background-color: #272722\">                                                                                                                   </span>\n<span style=\"background-color: #272722\">  </span><span style=\"color: #f8f8f2; text-decoration-color: #f8f8f2; background-color: #272822\">go run fib.go</span><span style=\"background-color: #272822\">                                                                                                  </span><span style=\"background-color: #272722\">  </span>\n<span style=\"background-color: #272722\">                                                                                                                   </span>\n<span style=\"color: #ffffff; text-decoration-color: #ffffff; background-color: #3b3b37\">                                                                                                                   </span>\n<span style=\"color: #ffffff; text-decoration-color: #ffffff; background-color: #3b3b37\">  [0 1 1 2 3 5 8 13 21 34 55 89 144 233 377 610 987 1597 2584 4181]                                                </span>\n<span style=\"color: #ffffff; text-decoration-color: #ffffff; background-color: #3b3b37\">                                                                                                                   </span>\n</pre>\n"
                },
                "metadata": {}
              }
            ]
          }
        },
        "53ae70f9228e45b39cae50cb0d273fbc": {
          "model_module": "@jupyter-widgets/base",
          "model_name": "LayoutModel",
          "model_module_version": "1.2.0",
          "state": {
            "_model_module": "@jupyter-widgets/base",
            "_model_module_version": "1.2.0",
            "_model_name": "LayoutModel",
            "_view_count": null,
            "_view_module": "@jupyter-widgets/base",
            "_view_module_version": "1.2.0",
            "_view_name": "LayoutView",
            "align_content": null,
            "align_items": null,
            "align_self": null,
            "border": null,
            "bottom": null,
            "display": null,
            "flex": null,
            "flex_flow": null,
            "grid_area": null,
            "grid_auto_columns": null,
            "grid_auto_flow": null,
            "grid_auto_rows": null,
            "grid_column": null,
            "grid_gap": null,
            "grid_row": null,
            "grid_template_areas": null,
            "grid_template_columns": null,
            "grid_template_rows": null,
            "height": null,
            "justify_content": null,
            "justify_items": null,
            "left": null,
            "margin": null,
            "max_height": null,
            "max_width": null,
            "min_height": null,
            "min_width": null,
            "object_fit": null,
            "object_position": null,
            "order": null,
            "overflow": null,
            "overflow_x": null,
            "overflow_y": null,
            "padding": null,
            "right": null,
            "top": null,
            "visibility": null,
            "width": null
          }
        },
        "d4a8d4fa6f654615b9c2ba08789fe2e7": {
          "model_module": "@jupyter-widgets/output",
          "model_name": "OutputModel",
          "model_module_version": "1.0.0",
          "state": {
            "_dom_classes": [],
            "_model_module": "@jupyter-widgets/output",
            "_model_module_version": "1.0.0",
            "_model_name": "OutputModel",
            "_view_count": null,
            "_view_module": "@jupyter-widgets/output",
            "_view_module_version": "1.0.0",
            "_view_name": "OutputView",
            "layout": "IPY_MODEL_365d884c702a4ca2a4ce97d4142910cd",
            "msg_id": "",
            "outputs": [
              {
                "output_type": "display_data",
                "data": {
                  "text/plain": "                                                                                                                   \n  フィボナッチ数列の最初の20項を生成しました。結果は以下の通りです：                                               \n                                                                                                                   \n  \u001b[48;2;39;40;34m                                                                                                               \u001b[0m  \n  \u001b[48;2;39;40;34m \u001b[0m\u001b[38;2;248;248;242;48;2;39;40;34m[0 1 1 2 3 5 8 13 21 34 55 89 144 233 377 610 987 1597 2584 4181]\u001b[0m\u001b[48;2;39;40;34m                                            \u001b[0m\u001b[48;2;39;40;34m \u001b[0m  \n  \u001b[48;2;39;40;34m                                                                                                               \u001b[0m  \n                                                                                                                   \n  これらの数値は、フィボナッチ数列の最初の20項を表しています。他に何かお手伝いできることがありますか？             \n                                                                                                                   \n",
                  "text/html": "<pre style=\"white-space:pre;overflow-x:auto;line-height:normal;font-family:Menlo,'DejaVu Sans Mono',consolas,'Courier New',monospace\">                                                                                                                   \n  フィボナッチ数列の最初の20項を生成しました。結果は以下の通りです：                                               \n                                                                                                                   \n  <span style=\"background-color: #272822\">                                                                                                               </span>  \n  <span style=\"background-color: #272822\"> </span><span style=\"color: #f8f8f2; text-decoration-color: #f8f8f2; background-color: #272822\">[0 1 1 2 3 5 8 13 21 34 55 89 144 233 377 610 987 1597 2584 4181]</span><span style=\"background-color: #272822\">                                             </span>  \n  <span style=\"background-color: #272822\">                                                                                                               </span>  \n                                                                                                                   \n  これらの数値は、フィボナッチ数列の最初の20項を表しています。他に何かお手伝いできることがありますか？             \n                                                                                                                   \n</pre>\n"
                },
                "metadata": {}
              }
            ]
          }
        },
        "365d884c702a4ca2a4ce97d4142910cd": {
          "model_module": "@jupyter-widgets/base",
          "model_name": "LayoutModel",
          "model_module_version": "1.2.0",
          "state": {
            "_model_module": "@jupyter-widgets/base",
            "_model_module_version": "1.2.0",
            "_model_name": "LayoutModel",
            "_view_count": null,
            "_view_module": "@jupyter-widgets/base",
            "_view_module_version": "1.2.0",
            "_view_name": "LayoutView",
            "align_content": null,
            "align_items": null,
            "align_self": null,
            "border": null,
            "bottom": null,
            "display": null,
            "flex": null,
            "flex_flow": null,
            "grid_area": null,
            "grid_auto_columns": null,
            "grid_auto_flow": null,
            "grid_auto_rows": null,
            "grid_column": null,
            "grid_gap": null,
            "grid_row": null,
            "grid_template_areas": null,
            "grid_template_columns": null,
            "grid_template_rows": null,
            "height": null,
            "justify_content": null,
            "justify_items": null,
            "left": null,
            "margin": null,
            "max_height": null,
            "max_width": null,
            "min_height": null,
            "min_width": null,
            "object_fit": null,
            "object_position": null,
            "order": null,
            "overflow": null,
            "overflow_x": null,
            "overflow_y": null,
            "padding": null,
            "right": null,
            "top": null,
            "visibility": null,
            "width": null
          }
        },
        "acfa149e5c5f4798a81ff4bc8a6b2f38": {
          "model_module": "@jupyter-widgets/output",
          "model_name": "OutputModel",
          "model_module_version": "1.0.0",
          "state": {
            "_dom_classes": [],
            "_model_module": "@jupyter-widgets/output",
            "_model_module_version": "1.0.0",
            "_model_name": "OutputModel",
            "_view_count": null,
            "_view_module": "@jupyter-widgets/output",
            "_view_module_version": "1.0.0",
            "_view_name": "OutputView",
            "layout": "IPY_MODEL_590c45c0d6fe4585beb1ac792363e075",
            "msg_id": "",
            "outputs": [
              {
                "output_type": "display_data",
                "data": {
                  "text/plain": "                                                                                                                   \n  了解しました。何かお困りのことがありましたら、いつでもお知らせください。良い一日をお過ごしください！             \n                                                                                                                   \n",
                  "text/html": "<pre style=\"white-space:pre;overflow-x:auto;line-height:normal;font-family:Menlo,'DejaVu Sans Mono',consolas,'Courier New',monospace\">                                                                                                                   \n  了解しました。何かお困りのことがありましたら、いつでもお知らせください。良い一日をお過ごしください！             \n                                                                                                                   \n</pre>\n"
                },
                "metadata": {}
              }
            ]
          }
        },
        "590c45c0d6fe4585beb1ac792363e075": {
          "model_module": "@jupyter-widgets/base",
          "model_name": "LayoutModel",
          "model_module_version": "1.2.0",
          "state": {
            "_model_module": "@jupyter-widgets/base",
            "_model_module_version": "1.2.0",
            "_model_name": "LayoutModel",
            "_view_count": null,
            "_view_module": "@jupyter-widgets/base",
            "_view_module_version": "1.2.0",
            "_view_name": "LayoutView",
            "align_content": null,
            "align_items": null,
            "align_self": null,
            "border": null,
            "bottom": null,
            "display": null,
            "flex": null,
            "flex_flow": null,
            "grid_area": null,
            "grid_auto_columns": null,
            "grid_auto_flow": null,
            "grid_auto_rows": null,
            "grid_column": null,
            "grid_gap": null,
            "grid_row": null,
            "grid_template_areas": null,
            "grid_template_columns": null,
            "grid_template_rows": null,
            "height": null,
            "justify_content": null,
            "justify_items": null,
            "left": null,
            "margin": null,
            "max_height": null,
            "max_width": null,
            "min_height": null,
            "min_width": null,
            "object_fit": null,
            "object_position": null,
            "order": null,
            "overflow": null,
            "overflow_x": null,
            "overflow_y": null,
            "padding": null,
            "right": null,
            "top": null,
            "visibility": null,
            "width": null
          }
        }
      }
    }
  },
  "cells": [
    {
      "cell_type": "code",
      "source": [
        "# 前提：事前に、ＯｐｅｎAI API キーを作成し、google cloud secret manager に保存しておく\n",
        "! pip install google-cloud-secret-manager\n",
        "\n",
        "from google.colab import auth\n",
        "auth.authenticate_user()"
      ],
      "metadata": {
        "id": "3SGVIlwLNE5D"
      },
      "execution_count": null,
      "outputs": []
    },
    {
      "cell_type": "code",
      "source": [
        "from google.cloud import secretmanager\n",
        "def access_secret(project_id, secret_name, version='latest'):\n",
        "    client = secretmanager.SecretManagerServiceClient()\n",
        "    name = client.secret_version_path(project_id, secret_name, version)\n",
        "    response = client.access_secret_version(request={\"name\":name})\n",
        "    payload = response.payload.data.decode(\"UTF-8\")\n",
        "    return payload\n",
        "\n",
        "# 以下、secret manager が属す PROJECT_ID と、事前作成したSECRET_NAMEを指定\n",
        "PROJECT_ID = \"public-but-beclouded\"\n",
        "SECRET_NAME  = \"open-ai-api-secret-01\""
      ],
      "metadata": {
        "id": "4J9YsLuNNLru"
      },
      "execution_count": 5,
      "outputs": []
    },
    {
      "cell_type": "code",
      "execution_count": 7,
      "metadata": {
        "colab": {
          "base_uri": "https://localhost:8080/",
          "height": 1000,
          "referenced_widgets": [
            "774438c38b17416fa73b7b0457f54197",
            "df0141e390ab47ccb2baaddfdfcc78bc",
            "e4757a3e38e745cb8f86631e4097f2bd",
            "35f35eee90124d38a8eaab41c76aa47c",
            "25aea266493c4a69bca07bae734b8552",
            "b0f7a0bdecb94915a8e061439f0aed47",
            "285f54b3fafa4ee198cff53642ed6372",
            "dfdeec3cfb0345b6a0eb7ef6f2be975c",
            "c427b0468df54444bf1ce8b88aa9f27c",
            "1c33e3bff882496db054b70aced3ec32",
            "53018144cd424e21b4da293d29dfcd93",
            "f34f5ffac1e540f89cc9e6503ee08962",
            "ab2f412ce1674969955570924b98d739",
            "fde4ada277ad477f8f8540fa6b8aa9bf",
            "01f5063194614551b55ab59ee5b408f0",
            "cf8c2dca8117416aad885d81b316cca7",
            "bde208253fbf4fa8b228d93d19a4abcc",
            "f9442b170aca4c24b48b45b55a0d7310",
            "4051c2774608472e8eb2452d1d4a328c",
            "a213340c0a144eefa1b54bcdbc242d50",
            "4c39a05b923a46048c8f0a584fe97d74",
            "707d97e8459c42b492e6310fbcb53f87",
            "67e53bcf0733454aac5223b9f44c845f",
            "7f2b1eb7df504d5a84f0ba71b06b383f",
            "6b984d9951374656bbd426dd9fabc651",
            "53ae70f9228e45b39cae50cb0d273fbc",
            "d4a8d4fa6f654615b9c2ba08789fe2e7",
            "365d884c702a4ca2a4ce97d4142910cd",
            "acfa149e5c5f4798a81ff4bc8a6b2f38",
            "590c45c0d6fe4585beb1ac792363e075"
          ]
        },
        "id": "B_PF3To3Ui9Z",
        "outputId": "04a4e058-70a6-4e28-f553-8124cd6d3b9c"
      },
      "outputs": [
        {
          "output_type": "stream",
          "name": "stdout",
          "text": [
            "Requirement already satisfied: open-interpreter in /usr/local/lib/python3.10/dist-packages (0.1.3)\n",
            "Requirement already satisfied: appdirs<2.0.0,>=1.4.4 in /usr/local/lib/python3.10/dist-packages (from open-interpreter) (1.4.4)\n",
            "Requirement already satisfied: astor<0.9.0,>=0.8.1 in /usr/local/lib/python3.10/dist-packages (from open-interpreter) (0.8.1)\n",
            "Requirement already satisfied: git-python<2.0.0,>=1.0.3 in /usr/local/lib/python3.10/dist-packages (from open-interpreter) (1.0.3)\n",
            "Requirement already satisfied: huggingface-hub<0.17.0,>=0.16.4 in /usr/local/lib/python3.10/dist-packages (from open-interpreter) (0.16.4)\n",
            "Requirement already satisfied: inquirer<4.0.0,>=3.1.3 in /usr/local/lib/python3.10/dist-packages (from open-interpreter) (3.1.3)\n",
            "Requirement already satisfied: litellm<0.2.0,>=0.1.578 in /usr/local/lib/python3.10/dist-packages (from open-interpreter) (0.1.609)\n",
            "Requirement already satisfied: openai<0.28.0,>=0.27.8 in /usr/local/lib/python3.10/dist-packages (from open-interpreter) (0.27.10)\n",
            "Requirement already satisfied: python-dotenv<2.0.0,>=1.0.0 in /usr/local/lib/python3.10/dist-packages (from open-interpreter) (1.0.0)\n",
            "Requirement already satisfied: rich<14.0.0,>=13.4.2 in /usr/local/lib/python3.10/dist-packages (from open-interpreter) (13.5.2)\n",
            "Requirement already satisfied: six<2.0.0,>=1.16.0 in /usr/local/lib/python3.10/dist-packages (from open-interpreter) (1.16.0)\n",
            "Requirement already satisfied: tiktoken<0.5.0,>=0.4.0 in /usr/local/lib/python3.10/dist-packages (from open-interpreter) (0.4.0)\n",
            "Requirement already satisfied: tokentrim<0.2.0,>=0.1.9 in /usr/local/lib/python3.10/dist-packages (from open-interpreter) (0.1.10)\n",
            "Requirement already satisfied: wget<4.0,>=3.2 in /usr/local/lib/python3.10/dist-packages (from open-interpreter) (3.2)\n",
            "Requirement already satisfied: gitpython in /usr/local/lib/python3.10/dist-packages (from git-python<2.0.0,>=1.0.3->open-interpreter) (3.1.36)\n",
            "Requirement already satisfied: filelock in /usr/local/lib/python3.10/dist-packages (from huggingface-hub<0.17.0,>=0.16.4->open-interpreter) (3.12.2)\n",
            "Requirement already satisfied: fsspec in /usr/local/lib/python3.10/dist-packages (from huggingface-hub<0.17.0,>=0.16.4->open-interpreter) (2023.6.0)\n",
            "Requirement already satisfied: requests in /usr/local/lib/python3.10/dist-packages (from huggingface-hub<0.17.0,>=0.16.4->open-interpreter) (2.31.0)\n",
            "Requirement already satisfied: tqdm>=4.42.1 in /usr/local/lib/python3.10/dist-packages (from huggingface-hub<0.17.0,>=0.16.4->open-interpreter) (4.66.1)\n",
            "Requirement already satisfied: pyyaml>=5.1 in /usr/local/lib/python3.10/dist-packages (from huggingface-hub<0.17.0,>=0.16.4->open-interpreter) (6.0.1)\n",
            "Requirement already satisfied: typing-extensions>=3.7.4.3 in /usr/local/lib/python3.10/dist-packages (from huggingface-hub<0.17.0,>=0.16.4->open-interpreter) (4.5.0)\n",
            "Requirement already satisfied: packaging>=20.9 in /usr/local/lib/python3.10/dist-packages (from huggingface-hub<0.17.0,>=0.16.4->open-interpreter) (23.1)\n",
            "Requirement already satisfied: blessed>=1.19.0 in /usr/local/lib/python3.10/dist-packages (from inquirer<4.0.0,>=3.1.3->open-interpreter) (1.20.0)\n",
            "Requirement already satisfied: python-editor>=1.0.4 in /usr/local/lib/python3.10/dist-packages (from inquirer<4.0.0,>=3.1.3->open-interpreter) (1.0.4)\n",
            "Requirement already satisfied: readchar>=3.0.6 in /usr/local/lib/python3.10/dist-packages (from inquirer<4.0.0,>=3.1.3->open-interpreter) (4.0.5)\n",
            "Requirement already satisfied: importlib-metadata<7.0.0,>=6.8.0 in /usr/local/lib/python3.10/dist-packages (from litellm<0.2.0,>=0.1.578->open-interpreter) (6.8.0)\n",
            "Requirement already satisfied: aiohttp in /usr/local/lib/python3.10/dist-packages (from openai<0.28.0,>=0.27.8->open-interpreter) (3.8.5)\n",
            "Requirement already satisfied: markdown-it-py>=2.2.0 in /usr/local/lib/python3.10/dist-packages (from rich<14.0.0,>=13.4.2->open-interpreter) (3.0.0)\n",
            "Requirement already satisfied: pygments<3.0.0,>=2.13.0 in /usr/local/lib/python3.10/dist-packages (from rich<14.0.0,>=13.4.2->open-interpreter) (2.16.1)\n",
            "Requirement already satisfied: regex>=2022.1.18 in /usr/local/lib/python3.10/dist-packages (from tiktoken<0.5.0,>=0.4.0->open-interpreter) (2023.6.3)\n",
            "Requirement already satisfied: wcwidth>=0.1.4 in /usr/local/lib/python3.10/dist-packages (from blessed>=1.19.0->inquirer<4.0.0,>=3.1.3->open-interpreter) (0.2.6)\n",
            "Requirement already satisfied: zipp>=0.5 in /usr/local/lib/python3.10/dist-packages (from importlib-metadata<7.0.0,>=6.8.0->litellm<0.2.0,>=0.1.578->open-interpreter) (3.16.2)\n",
            "Requirement already satisfied: mdurl~=0.1 in /usr/local/lib/python3.10/dist-packages (from markdown-it-py>=2.2.0->rich<14.0.0,>=13.4.2->open-interpreter) (0.1.2)\n",
            "Requirement already satisfied: setuptools>=41.0 in /usr/local/lib/python3.10/dist-packages (from readchar>=3.0.6->inquirer<4.0.0,>=3.1.3->open-interpreter) (67.7.2)\n",
            "Requirement already satisfied: charset-normalizer<4,>=2 in /usr/local/lib/python3.10/dist-packages (from requests->huggingface-hub<0.17.0,>=0.16.4->open-interpreter) (3.2.0)\n",
            "Requirement already satisfied: idna<4,>=2.5 in /usr/local/lib/python3.10/dist-packages (from requests->huggingface-hub<0.17.0,>=0.16.4->open-interpreter) (3.4)\n",
            "Requirement already satisfied: urllib3<3,>=1.21.1 in /usr/local/lib/python3.10/dist-packages (from requests->huggingface-hub<0.17.0,>=0.16.4->open-interpreter) (2.0.4)\n",
            "Requirement already satisfied: certifi>=2017.4.17 in /usr/local/lib/python3.10/dist-packages (from requests->huggingface-hub<0.17.0,>=0.16.4->open-interpreter) (2023.7.22)\n",
            "Requirement already satisfied: attrs>=17.3.0 in /usr/local/lib/python3.10/dist-packages (from aiohttp->openai<0.28.0,>=0.27.8->open-interpreter) (23.1.0)\n",
            "Requirement already satisfied: multidict<7.0,>=4.5 in /usr/local/lib/python3.10/dist-packages (from aiohttp->openai<0.28.0,>=0.27.8->open-interpreter) (6.0.4)\n",
            "Requirement already satisfied: async-timeout<5.0,>=4.0.0a3 in /usr/local/lib/python3.10/dist-packages (from aiohttp->openai<0.28.0,>=0.27.8->open-interpreter) (4.0.3)\n",
            "Requirement already satisfied: yarl<2.0,>=1.0 in /usr/local/lib/python3.10/dist-packages (from aiohttp->openai<0.28.0,>=0.27.8->open-interpreter) (1.9.2)\n",
            "Requirement already satisfied: frozenlist>=1.1.1 in /usr/local/lib/python3.10/dist-packages (from aiohttp->openai<0.28.0,>=0.27.8->open-interpreter) (1.4.0)\n",
            "Requirement already satisfied: aiosignal>=1.1.2 in /usr/local/lib/python3.10/dist-packages (from aiohttp->openai<0.28.0,>=0.27.8->open-interpreter) (1.3.1)\n",
            "Requirement already satisfied: gitdb<5,>=4.0.1 in /usr/local/lib/python3.10/dist-packages (from gitpython->git-python<2.0.0,>=1.0.3->open-interpreter) (4.0.10)\n",
            "Requirement already satisfied: smmap<6,>=3.0.1 in /usr/local/lib/python3.10/dist-packages (from gitdb<5,>=4.0.1->gitpython->git-python<2.0.0,>=1.0.3->open-interpreter) (5.0.0)\n"
          ]
        },
        {
          "output_type": "display_data",
          "data": {
            "text/plain": [
              "\n",
              "\u001b[35m▌ \u001b[0m\u001b[35mModel set to \u001b[0m\u001b[1;36;40mGPT-4\u001b[0m\u001b[35m                                                                                             \u001b[0m\n",
              "\n",
              "\u001b[1mOpen Interpreter\u001b[0m will require approval before running code. Use \u001b[1;36;40minterpreter -y\u001b[0m to bypass this.                     \n",
              "\n",
              "Press \u001b[1;36;40mCTRL-C\u001b[0m to exit.                                                                                              \n",
              "\n"
            ],
            "text/html": [
              "<pre style=\"white-space:pre;overflow-x:auto;line-height:normal;font-family:Menlo,'DejaVu Sans Mono',consolas,'Courier New',monospace\">\n",
              "<span style=\"color: #800080; text-decoration-color: #800080\">▌ Model set to </span><span style=\"color: #008080; text-decoration-color: #008080; background-color: #000000; font-weight: bold\">GPT-4</span><span style=\"color: #800080; text-decoration-color: #800080\">                                                                                             </span>\n",
              "\n",
              "<span style=\"font-weight: bold\">Open Interpreter</span> will require approval before running code. Use <span style=\"color: #008080; text-decoration-color: #008080; background-color: #000000; font-weight: bold\">interpreter -y</span> to bypass this.                     \n",
              "\n",
              "Press <span style=\"color: #008080; text-decoration-color: #008080; background-color: #000000; font-weight: bold\">CTRL-C</span> to exit.                                                                                              \n",
              "\n",
              "</pre>\n"
            ]
          },
          "metadata": {}
        },
        {
          "name": "stdout",
          "output_type": "stream",
          "text": [
            "> interpreter -y\n"
          ]
        },
        {
          "output_type": "display_data",
          "data": {
            "text/plain": [
              "Output()"
            ],
            "application/vnd.jupyter.widget-view+json": {
              "version_major": 2,
              "version_minor": 0,
              "model_id": "774438c38b17416fa73b7b0457f54197"
            }
          },
          "metadata": {}
        },
        {
          "output_type": "display_data",
          "data": {
            "text/plain": [],
            "text/html": [
              "<pre style=\"white-space:pre;overflow-x:auto;line-height:normal;font-family:Menlo,'DejaVu Sans Mono',consolas,'Courier New',monospace\"></pre>\n"
            ]
          },
          "metadata": {}
        },
        {
          "name": "stdout",
          "output_type": "stream",
          "text": [
            "> Go を使って、フィボナッチ数列を作成する関数を作成し、20件入っている数列を作成してください\n"
          ]
        },
        {
          "output_type": "display_data",
          "data": {
            "text/plain": [
              "Output()"
            ],
            "application/vnd.jupyter.widget-view+json": {
              "version_major": 2,
              "version_minor": 0,
              "model_id": "e4757a3e38e745cb8f86631e4097f2bd"
            }
          },
          "metadata": {}
        },
        {
          "output_type": "display_data",
          "data": {
            "text/plain": [],
            "text/html": [
              "<pre style=\"white-space:pre;overflow-x:auto;line-height:normal;font-family:Menlo,'DejaVu Sans Mono',consolas,'Courier New',monospace\"></pre>\n"
            ]
          },
          "metadata": {}
        },
        {
          "output_type": "display_data",
          "data": {
            "text/plain": [
              "\n"
            ],
            "text/html": [
              "<pre style=\"white-space:pre;overflow-x:auto;line-height:normal;font-family:Menlo,'DejaVu Sans Mono',consolas,'Courier New',monospace\">\n",
              "</pre>\n"
            ]
          },
          "metadata": {}
        },
        {
          "output_type": "display_data",
          "data": {
            "text/plain": [
              "Output()"
            ],
            "application/vnd.jupyter.widget-view+json": {
              "version_major": 2,
              "version_minor": 0,
              "model_id": "25aea266493c4a69bca07bae734b8552"
            }
          },
          "metadata": {}
        },
        {
          "output_type": "display_data",
          "data": {
            "text/plain": [],
            "text/html": [
              "<pre style=\"white-space:pre;overflow-x:auto;line-height:normal;font-family:Menlo,'DejaVu Sans Mono',consolas,'Courier New',monospace\"></pre>\n"
            ]
          },
          "metadata": {}
        },
        {
          "name": "stdout",
          "output_type": "stream",
          "text": [
            "  Would you like to run this code? (y/n)\n",
            "\n",
            "  y\n"
          ]
        },
        {
          "output_type": "display_data",
          "data": {
            "text/plain": [
              "\n"
            ],
            "text/html": [
              "<pre style=\"white-space:pre;overflow-x:auto;line-height:normal;font-family:Menlo,'DejaVu Sans Mono',consolas,'Courier New',monospace\">\n",
              "</pre>\n"
            ]
          },
          "metadata": {}
        },
        {
          "output_type": "display_data",
          "data": {
            "text/plain": [
              "Output()"
            ],
            "application/vnd.jupyter.widget-view+json": {
              "version_major": 2,
              "version_minor": 0,
              "model_id": "285f54b3fafa4ee198cff53642ed6372"
            }
          },
          "metadata": {}
        },
        {
          "output_type": "display_data",
          "data": {
            "text/plain": [],
            "text/html": [
              "<pre style=\"white-space:pre;overflow-x:auto;line-height:normal;font-family:Menlo,'DejaVu Sans Mono',consolas,'Courier New',monospace\"></pre>\n"
            ]
          },
          "metadata": {}
        },
        {
          "output_type": "display_data",
          "data": {
            "text/plain": [
              "Output()"
            ],
            "application/vnd.jupyter.widget-view+json": {
              "version_major": 2,
              "version_minor": 0,
              "model_id": "c427b0468df54444bf1ce8b88aa9f27c"
            }
          },
          "metadata": {}
        },
        {
          "output_type": "display_data",
          "data": {
            "text/plain": [],
            "text/html": [
              "<pre style=\"white-space:pre;overflow-x:auto;line-height:normal;font-family:Menlo,'DejaVu Sans Mono',consolas,'Courier New',monospace\"></pre>\n"
            ]
          },
          "metadata": {}
        },
        {
          "name": "stdout",
          "output_type": "stream",
          "text": [
            "> y\n"
          ]
        },
        {
          "output_type": "display_data",
          "data": {
            "text/plain": [
              "\n"
            ],
            "text/html": [
              "<pre style=\"white-space:pre;overflow-x:auto;line-height:normal;font-family:Menlo,'DejaVu Sans Mono',consolas,'Courier New',monospace\">\n",
              "</pre>\n"
            ]
          },
          "metadata": {}
        },
        {
          "output_type": "display_data",
          "data": {
            "text/plain": [
              "Output()"
            ],
            "application/vnd.jupyter.widget-view+json": {
              "version_major": 2,
              "version_minor": 0,
              "model_id": "53018144cd424e21b4da293d29dfcd93"
            }
          },
          "metadata": {}
        },
        {
          "output_type": "display_data",
          "data": {
            "text/plain": [],
            "text/html": [
              "<pre style=\"white-space:pre;overflow-x:auto;line-height:normal;font-family:Menlo,'DejaVu Sans Mono',consolas,'Courier New',monospace\"></pre>\n"
            ]
          },
          "metadata": {}
        },
        {
          "name": "stdout",
          "output_type": "stream",
          "text": [
            "  Would you like to run this code? (y/n)\n",
            "\n",
            "  y\n"
          ]
        },
        {
          "output_type": "display_data",
          "data": {
            "text/plain": [
              "\n"
            ],
            "text/html": [
              "<pre style=\"white-space:pre;overflow-x:auto;line-height:normal;font-family:Menlo,'DejaVu Sans Mono',consolas,'Courier New',monospace\">\n",
              "</pre>\n"
            ]
          },
          "metadata": {}
        },
        {
          "output_type": "display_data",
          "data": {
            "text/plain": [
              "Output()"
            ],
            "application/vnd.jupyter.widget-view+json": {
              "version_major": 2,
              "version_minor": 0,
              "model_id": "ab2f412ce1674969955570924b98d739"
            }
          },
          "metadata": {}
        },
        {
          "output_type": "display_data",
          "data": {
            "text/plain": [],
            "text/html": [
              "<pre style=\"white-space:pre;overflow-x:auto;line-height:normal;font-family:Menlo,'DejaVu Sans Mono',consolas,'Courier New',monospace\"></pre>\n"
            ]
          },
          "metadata": {}
        },
        {
          "output_type": "display_data",
          "data": {
            "text/plain": [
              "Output()"
            ],
            "application/vnd.jupyter.widget-view+json": {
              "version_major": 2,
              "version_minor": 0,
              "model_id": "01f5063194614551b55ab59ee5b408f0"
            }
          },
          "metadata": {}
        },
        {
          "output_type": "display_data",
          "data": {
            "text/plain": [],
            "text/html": [
              "<pre style=\"white-space:pre;overflow-x:auto;line-height:normal;font-family:Menlo,'DejaVu Sans Mono',consolas,'Courier New',monospace\"></pre>\n"
            ]
          },
          "metadata": {}
        },
        {
          "output_type": "display_data",
          "data": {
            "text/plain": [
              "\n"
            ],
            "text/html": [
              "<pre style=\"white-space:pre;overflow-x:auto;line-height:normal;font-family:Menlo,'DejaVu Sans Mono',consolas,'Courier New',monospace\">\n",
              "</pre>\n"
            ]
          },
          "metadata": {}
        },
        {
          "output_type": "display_data",
          "data": {
            "text/plain": [
              "Output()"
            ],
            "application/vnd.jupyter.widget-view+json": {
              "version_major": 2,
              "version_minor": 0,
              "model_id": "bde208253fbf4fa8b228d93d19a4abcc"
            }
          },
          "metadata": {}
        },
        {
          "output_type": "display_data",
          "data": {
            "text/plain": [],
            "text/html": [
              "<pre style=\"white-space:pre;overflow-x:auto;line-height:normal;font-family:Menlo,'DejaVu Sans Mono',consolas,'Courier New',monospace\"></pre>\n"
            ]
          },
          "metadata": {}
        },
        {
          "name": "stdout",
          "output_type": "stream",
          "text": [
            "  Would you like to run this code? (y/n)\n",
            "\n",
            "  y\n"
          ]
        },
        {
          "output_type": "display_data",
          "data": {
            "text/plain": [
              "\n"
            ],
            "text/html": [
              "<pre style=\"white-space:pre;overflow-x:auto;line-height:normal;font-family:Menlo,'DejaVu Sans Mono',consolas,'Courier New',monospace\">\n",
              "</pre>\n"
            ]
          },
          "metadata": {}
        },
        {
          "output_type": "display_data",
          "data": {
            "text/plain": [
              "Output()"
            ],
            "application/vnd.jupyter.widget-view+json": {
              "version_major": 2,
              "version_minor": 0,
              "model_id": "4051c2774608472e8eb2452d1d4a328c"
            }
          },
          "metadata": {}
        },
        {
          "output_type": "display_data",
          "data": {
            "text/plain": [],
            "text/html": [
              "<pre style=\"white-space:pre;overflow-x:auto;line-height:normal;font-family:Menlo,'DejaVu Sans Mono',consolas,'Courier New',monospace\"></pre>\n"
            ]
          },
          "metadata": {}
        },
        {
          "output_type": "display_data",
          "data": {
            "text/plain": [
              "Output()"
            ],
            "application/vnd.jupyter.widget-view+json": {
              "version_major": 2,
              "version_minor": 0,
              "model_id": "4c39a05b923a46048c8f0a584fe97d74"
            }
          },
          "metadata": {}
        },
        {
          "output_type": "display_data",
          "data": {
            "text/plain": [],
            "text/html": [
              "<pre style=\"white-space:pre;overflow-x:auto;line-height:normal;font-family:Menlo,'DejaVu Sans Mono',consolas,'Courier New',monospace\"></pre>\n"
            ]
          },
          "metadata": {}
        },
        {
          "output_type": "display_data",
          "data": {
            "text/plain": [
              "\n"
            ],
            "text/html": [
              "<pre style=\"white-space:pre;overflow-x:auto;line-height:normal;font-family:Menlo,'DejaVu Sans Mono',consolas,'Courier New',monospace\">\n",
              "</pre>\n"
            ]
          },
          "metadata": {}
        },
        {
          "output_type": "display_data",
          "data": {
            "text/plain": [
              "Output()"
            ],
            "application/vnd.jupyter.widget-view+json": {
              "version_major": 2,
              "version_minor": 0,
              "model_id": "67e53bcf0733454aac5223b9f44c845f"
            }
          },
          "metadata": {}
        },
        {
          "output_type": "display_data",
          "data": {
            "text/plain": [],
            "text/html": [
              "<pre style=\"white-space:pre;overflow-x:auto;line-height:normal;font-family:Menlo,'DejaVu Sans Mono',consolas,'Courier New',monospace\"></pre>\n"
            ]
          },
          "metadata": {}
        },
        {
          "name": "stdout",
          "output_type": "stream",
          "text": [
            "  Would you like to run this code? (y/n)\n",
            "\n",
            "  y\n"
          ]
        },
        {
          "output_type": "display_data",
          "data": {
            "text/plain": [
              "\n"
            ],
            "text/html": [
              "<pre style=\"white-space:pre;overflow-x:auto;line-height:normal;font-family:Menlo,'DejaVu Sans Mono',consolas,'Courier New',monospace\">\n",
              "</pre>\n"
            ]
          },
          "metadata": {}
        },
        {
          "output_type": "display_data",
          "data": {
            "text/plain": [
              "Output()"
            ],
            "application/vnd.jupyter.widget-view+json": {
              "version_major": 2,
              "version_minor": 0,
              "model_id": "6b984d9951374656bbd426dd9fabc651"
            }
          },
          "metadata": {}
        },
        {
          "output_type": "display_data",
          "data": {
            "text/plain": [],
            "text/html": [
              "<pre style=\"white-space:pre;overflow-x:auto;line-height:normal;font-family:Menlo,'DejaVu Sans Mono',consolas,'Courier New',monospace\"></pre>\n"
            ]
          },
          "metadata": {}
        },
        {
          "output_type": "display_data",
          "data": {
            "text/plain": [
              "Output()"
            ],
            "application/vnd.jupyter.widget-view+json": {
              "version_major": 2,
              "version_minor": 0,
              "model_id": "d4a8d4fa6f654615b9c2ba08789fe2e7"
            }
          },
          "metadata": {}
        },
        {
          "output_type": "display_data",
          "data": {
            "text/plain": [],
            "text/html": [
              "<pre style=\"white-space:pre;overflow-x:auto;line-height:normal;font-family:Menlo,'DejaVu Sans Mono',consolas,'Courier New',monospace\"></pre>\n"
            ]
          },
          "metadata": {}
        },
        {
          "name": "stdout",
          "output_type": "stream",
          "text": [
            "> quit\n"
          ]
        },
        {
          "output_type": "display_data",
          "data": {
            "text/plain": [
              "Output()"
            ],
            "application/vnd.jupyter.widget-view+json": {
              "version_major": 2,
              "version_minor": 0,
              "model_id": "acfa149e5c5f4798a81ff4bc8a6b2f38"
            }
          },
          "metadata": {}
        },
        {
          "output_type": "display_data",
          "data": {
            "text/plain": [],
            "text/html": [
              "<pre style=\"white-space:pre;overflow-x:auto;line-height:normal;font-family:Menlo,'DejaVu Sans Mono',consolas,'Courier New',monospace\"></pre>\n"
            ]
          },
          "metadata": {}
        },
        {
          "output_type": "display_data",
          "data": {
            "text/plain": [
              "\n"
            ],
            "text/html": [
              "<pre style=\"white-space:pre;overflow-x:auto;line-height:normal;font-family:Menlo,'DejaVu Sans Mono',consolas,'Courier New',monospace\">\n",
              "</pre>\n"
            ]
          },
          "metadata": {}
        }
      ],
      "source": [
        "! pip install open-interpreter\n",
        "import interpreter\n",
        "interpreter.api_key  = access_secret(PROJECT_ID, SECRET_NAME)\n",
        "interpreter.chat()"
      ]
    }
  ]
}