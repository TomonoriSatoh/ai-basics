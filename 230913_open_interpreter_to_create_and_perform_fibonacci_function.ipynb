{
  "nbformat": 4,
  "nbformat_minor": 0,
  "metadata": {
    "colab": {
      "provenance": [],
      "authorship_tag": "ABX9TyPlzQeFc9XxgK2rOJa/MSOy"
    },
    "kernelspec": {
      "name": "python3",
      "display_name": "Python 3"
    },
    "language_info": {
      "name": "python"
    }
  },
  "cells": [
    {
      "cell_type": "code",
      "source": [
        "# 前提：事前に、ＯｐｅｎAI API キーを作成し、google cloud secret manager に保存しておく\n",
        "! pip install google-cloud-secret-manager\n",
        "\n",
        "from google.colab import auth\n",
        "auth.authenticate_user()"
      ],
      "metadata": {
        "id": "3SGVIlwLNE5D"
      },
      "execution_count": null,
      "outputs": []
    },
    {
      "cell_type": "code",
      "source": [
        "from google.cloud import secretmanager\n",
        "def access_secret(project_id, secret_name, version='latest'):\n",
        "    client = secretmanager.SecretManagerServiceClient()\n",
        "    name = client.secret_version_path(project_id, secret_name, version)\n",
        "    response = client.access_secret_version(request={\"name\":name})\n",
        "    payload = response.payload.data.decode(\"UTF-8\")\n",
        "    return payload\n",
        "\n",
        "# 以下、secret manager が属す PROJECT_ID と、事前作成したSECRET_NAMEを指定\n",
        "PROJECT_ID = \"public-but-beclouded\"\n",
        "SECRET_NAME  = \"open-ai-api-secret-01\""
      ],
      "metadata": {
        "id": "4J9YsLuNNLru"
      },
      "execution_count": 5,
      "outputs": []
    },
    {
      "cell_type": "code",
      "execution_count": null,
      "metadata": {
        "id": "B_PF3To3Ui9Z"
      },
      "outputs": [],
      "source": [
        "! pip install open-interpreter\n",
        "import interpreter\n",
        "interpreter.api_key  = access_secret(PROJECT_ID, SECRET_NAME)\n",
        "interpreter.chat()"
      ]
    }
  ]
}