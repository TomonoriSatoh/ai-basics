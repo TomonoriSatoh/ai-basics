{
  "cells": [
    {
      "cell_type": "markdown",
      "metadata": {
        "id": "view-in-github",
        "colab_type": "text"
      },
      "source": [
        "<a href=\"https://colab.research.google.com/github/TomonoriSatoh/ai-basics/blob/main/230909_simple_chat_with_simple_context_7_2.ipynb\" target=\"_parent\"><img src=\"https://colab.research.google.com/assets/colab-badge.svg\" alt=\"Open In Colab\"/></a>"
      ]
    },
    {
      "cell_type": "markdown",
      "source": [
        "# OpenAI APIを利用した、基礎的な AI Chat\n",
        "ユーザーが農機具の故障に関する質問をするたびに、AIが回答を生成し、サポートコンテキストを保持することができる対話型のシステム\n",
        "\n"
      ],
      "metadata": {
        "id": "CujwNb97plC0"
      }
    },
    {
      "cell_type": "code",
      "execution_count": null,
      "metadata": {
        "id": "NuSB4F8fJaQU"
      },
      "outputs": [],
      "source": [
        "# 前提：事前に、ＯｐｅｎAI API キーを作成し、secret manager に保存しておく\n",
        "! pip install google-cloud-secret-manager\n",
        "\n",
        "from google.colab import auth\n",
        "auth.authenticate_user()"
      ]
    },
    {
      "cell_type": "code",
      "execution_count": 2,
      "metadata": {
        "id": "hXjkvv-fxBvz"
      },
      "outputs": [],
      "source": [
        "from google.cloud import secretmanager\n",
        "def access_secret(project_id, secret_name, version='latest'):\n",
        "    client = secretmanager.SecretManagerServiceClient()\n",
        "    name = client.secret_version_path(project_id, secret_name, version)\n",
        "    response = client.access_secret_version(request={\"name\":name})\n",
        "    payload = response.payload.data.decode(\"UTF-8\")\n",
        "    return payload\n",
        "\n",
        "# 以下、secret manager が属す PROJECT_ID と、事前作成したSECRET_NAMEを指定\n",
        "PROJECT_ID = \"public-but-beclouded\"\n",
        "SECRET_NAME  = \"open-ai-api-secret-01\""
      ]
    },
    {
      "cell_type": "code",
      "execution_count": null,
      "metadata": {
        "id": "Xh5ffkEcLGuD"
      },
      "outputs": [],
      "source": [
        "! pip install openai\n",
        "import openai\n",
        "openai.api_key = access_secret(PROJECT_ID, SECRET_NAME)"
      ]
    },
    {
      "cell_type": "markdown",
      "source": [
        "以下、[gihyo-ChatGPT, 7_2](https://github.com/gamasenninn/gihyo-ChatGPT/blob/main/notebooks/7_2_chatbot_summary.ipynb)　をベースにカスタマイズ\n",
        "\n"
      ],
      "metadata": {
        "id": "933W5jukzCmX"
      }
    },
    {
      "cell_type": "code",
      "execution_count": 4,
      "metadata": {
        "id": "5pNrGT9qKQ8a"
      },
      "outputs": [],
      "source": [
        "from json.decoder import JSONDecodeError\n",
        "import os\n",
        "import re\n",
        "import json\n",
        "import time"
      ]
    },
    {
      "cell_type": "code",
      "execution_count": null,
      "metadata": {
        "id": "2PqemeGdLTAe"
      },
      "outputs": [],
      "source": [
        "DEBUG = True\n",
        "#DEBUG = False\n",
        "\n",
        "# Predefined system message\n",
        "SYSTEM_MESSAGE = \"\"\"\n",
        "\n",
        "下記の前提知識とサポート記録を踏まえてサポートをしてください。\n",
        "すべての会話の返答とその要約を次のJSON形式で出力してください\n",
        "\n",
        "## 出力（JSON形式）\n",
        "{{\"content\" : \"(返答の内容)\", \"summary\" : \"(返答を要約した内容)\" }}\n",
        "\n",
        "## 会話の例\n",
        "USER->機械の調子が悪いです\n",
        "AI->{{\"content\" : \"具体的に教えてください。どのような機械で、どんな不具合が起こっていますか？\",\"summary\" : \"機械の種類と不具合の現象を、具体的にユーザに確認。\"}}\n",
        "\n",
        "USER->ありがとう。(終了の暗示や挨拶や感謝の言葉なども含む)\n",
        "AI->{{\"content\" : \"どういたしまして。いつでもご相談ください。\",\"summary\" : \"サポート終了。\"}}\n",
        "\n",
        "## 前提知識\n",
        "  - あなた（AI）は農機具故障診断のエキスパートです。\n",
        "  - ユーザ(USER)の発言と同じ文言を、そのままユーザに返しては絶対に駄目です。\n",
        "\n",
        "## サポート記録\n",
        "  {support_context}\n",
        "\n",
        "\"\"\"\n",
        "\n",
        "def create_chat_response(user_text, support_context):\n",
        "  for i in range(3):\n",
        "    response = openai.ChatCompletion.create(\n",
        "        model=\"gpt-3.5-turbo\",\n",
        "        messages=[\n",
        "            {\n",
        "                \"role\": \"system\",\n",
        "                \"content\": SYSTEM_MESSAGE.format(support_context=support_context)\n",
        "            },\n",
        "            {\n",
        "                \"role\": \"user\",\n",
        "                \"content\": f\"JSON形式で出力してください:[{user_text}]+\"\n",
        "            }\n",
        "        ],\n",
        "    )\n",
        "    try:\n",
        "      # レスポンスからJSON形式のデータだけを抜き取る\n",
        "      # Open AI APIリファレンス: https://platform.openai.com/docs/api-reference/chat/streaming\n",
        "      json_str = re.search(r'\\{.*\\}', response.choices[0].message['content']).group(0)\n",
        "      return json.loads(json_str)\n",
        "    except JSONDecodeError:\n",
        "      #不正なJSONデータの場合リトライする。そのとき、AIに注意を促す。\n",
        "      if DEBUG: print(\"JSON Parse Error:\",response.choices[0].message['content'])\n",
        "      print(\"...AIの出力でエラーが発生しました。リトライします......\")\n",
        "      user_text += '...JSON形式のレスポンスを守ってください。'\n",
        "      time.sleep(1)\n",
        "      continue\n",
        "    except AttributeError:\n",
        "      #JSON変換できなかったもの。リストなどの場合。そのままの値をセットする。\n",
        "      if DEBUG: print(\"Attribute Error:\",response.choices[0].message['content'])\n",
        "      return {\n",
        "          \"content\": response.choices[0].message['content'],\n",
        "          \"summary\": response.choices[0].message['content'],\n",
        "          \"error\": \"attribute error\"\n",
        "      }\n",
        "\n",
        "  else:\n",
        "    return []\n",
        "\n",
        "support_context = \"\"\n",
        "print(\"農機具についてお困りがあればお答えします\\nなんでも聞いてください。\\n\")\n",
        "\n",
        "while True:\n",
        "  user_text = input(\"\\n>\")\n",
        "\n",
        "  if user_text == \"quit\":\n",
        "    break\n",
        "\n",
        "  response = create_chat_response(user_text, support_context)\n",
        "  if response:\n",
        "      answer  = response['content']\n",
        "      summary = response['summary']\n",
        "  else:\n",
        "    print(\"申し訳ございません。質問の方法を変えてください。\")\n",
        "    continue\n",
        "\n",
        "  support_context += f\"- user: {user_text}\\n\"\n",
        "  support_context += f\"- AI: {summary}\\n\\n\"\n",
        "  print(\"\\n返答:\",answer)\n",
        "\n",
        "  if DEBUG:\n",
        "    print(\"要約:\",summary)\n",
        "    print(\"response:\",response)\n"
      ]
    }
  ],
  "metadata": {
    "colab": {
      "provenance": [],
      "name": "230909_simple-chat-with-simple-context_7-2.ipynb",
      "authorship_tag": "ABX9TyN62RUOhlOg7vZCQpMAl0UE",
      "include_colab_link": true
    },
    "kernelspec": {
      "display_name": "Python 3",
      "name": "python3"
    },
    "language_info": {
      "name": "python"
    }
  },
  "nbformat": 4,
  "nbformat_minor": 0
}